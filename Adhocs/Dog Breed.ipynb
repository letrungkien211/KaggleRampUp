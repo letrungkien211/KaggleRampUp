{
 "cells": [
  {
   "cell_type": "code",
   "execution_count": 1,
   "metadata": {},
   "outputs": [
    {
     "name": "stderr",
     "output_type": "stream",
     "text": [
      "/home/trule/anaconda3/lib/python3.6/site-packages/h5py/__init__.py:36: FutureWarning: Conversion of the second argument of issubdtype from `float` to `np.floating` is deprecated. In future, it will be treated as `np.float64 == np.dtype(float).type`.\n",
      "  from ._conv import register_converters as _register_converters\n",
      "Using TensorFlow backend.\n"
     ]
    }
   ],
   "source": [
    "from keras.preprocessing.image import ImageDataGenerator\n",
    "import pandas as pd\n",
    "import os\n",
    "from keras.models import Model\n",
    "from keras.layers import Dense, Flatten, GlobalAveragePooling2D, Dropout, Input, AveragePooling2D, Lambda\n",
    "from urllib import request\n",
    "from keras.callbacks import TensorBoard\n",
    "import tempfile\n",
    "from keras import optimizers\n",
    "from keras.utils import Sequence\n",
    "import numpy as np\n",
    "from tqdm import tqdm\n",
    "from datetime import datetime\n",
    "from keras.applications import vgg16, resnet50\n",
    "from glob import glob"
   ]
  },
  {
   "cell_type": "markdown",
   "metadata": {},
   "source": [
    "# Use env variable to detect if run in kaggle environment or not"
   ]
  },
  {
   "cell_type": "markdown",
   "metadata": {},
   "source": [
    "#!export NOT_KAGGLE_KERNEL=true"
   ]
  },
  {
   "cell_type": "code",
   "execution_count": 2,
   "metadata": {},
   "outputs": [
    {
     "name": "stdout",
     "output_type": "stream",
     "text": [
      "Run on kaggle kernel: False\n"
     ]
    }
   ],
   "source": [
    "NOT_KAGGLE_KERNEL = os.environ.get('NOT_KAGGLE_KERNEL', 'false') == 'true'\n",
    "print('Run on kaggle kernel:', NOT_KAGGLE_KERNEL)"
   ]
  },
  {
   "cell_type": "markdown",
   "metadata": {},
   "source": [
    "# Define variables"
   ]
  },
  {
   "cell_type": "code",
   "execution_count": 3,
   "metadata": {},
   "outputs": [],
   "source": [
    "ROOT_DIR = '../input/dog-breed' if NOT_KAGGLE_KERNEL else '../input'\n",
    "TRAIN_DIR = os.path.join(ROOT_DIR, 'train')\n",
    "TEST_DIR = os.path.join(ROOT_DIR, 'test')\n",
    "\n",
    "EPOCHS = 50\n",
    "BATCH_SIZE = 512\n",
    "IMAGE_SIZE = (224,224)\n",
    "INPUT_SHAPE = IMAGE_SIZE + (3,)"
   ]
  },
  {
   "cell_type": "markdown",
   "metadata": {},
   "source": [
    "# Fetch data (if not exist)"
   ]
  },
  {
   "cell_type": "code",
   "execution_count": 4,
   "metadata": {},
   "outputs": [],
   "source": [
    "def fetch_data():\n",
    "    if not os.path.exists(ROOT_DIR):\n",
    "        os.makedirs(ROOT_DIR)\n",
    "        zip_path = os.path.join(tempfile.gettempdir(), 'dog-breed.zip')\n",
    "        print('Start download!')\n",
    "        request.urlretrieve('https://kienle.blob.core.windows.net/public/kaggle/dog-breed.zip', zip_path)\n",
    "        print('Start unzip')\n",
    "        import zipfile\n",
    "        with zipfile.ZipFile(zip_path, 'r') as zip_ref:\n",
    "            zip_ref.extractall(ROOT_DIR)\n",
    "        with zipfile.ZipFile(os.path.join(ROOT_DIR,'test.zip'), 'r') as zip_ref:\n",
    "            zip_ref.extractall(ROOT_DIR)\n",
    "        with zipfile.ZipFile(os.path.join(ROOT_DIR,'train.zip'), 'r') as zip_ref:\n",
    "            zip_ref.extractall(ROOT_DIR)\n",
    "        os.remove(zip_path)\n",
    "        os.remove(os.path.join(ROOT_DIR,'train.zip'))\n",
    "        os.remove(os.path.join(ROOT_DIR,'test.zip'))\n",
    "        print('Done')\n",
    "fetch_data()"
   ]
  },
  {
   "cell_type": "code",
   "execution_count": 5,
   "metadata": {},
   "outputs": [
    {
     "name": "stdout",
     "output_type": "stream",
     "text": [
      "labels.csv  my_submission.csv  sample_submission.csv  test  train\r\n"
     ]
    }
   ],
   "source": [
    "# Confirm all data are ready \n",
    "# Expected output: labels.csv  sample_submission.csv  test  train\n",
    "!ls $ROOT_DIR"
   ]
  },
  {
   "cell_type": "markdown",
   "metadata": {},
   "source": [
    "# Prepare training data set"
   ]
  },
  {
   "cell_type": "code",
   "execution_count": 6,
   "metadata": {},
   "outputs": [],
   "source": [
    "pd_images = pd.read_csv(os.path.join(ROOT_DIR, 'labels.csv'))"
   ]
  },
  {
   "cell_type": "code",
   "execution_count": 7,
   "metadata": {},
   "outputs": [
    {
     "data": {
      "text/html": [
       "<div>\n",
       "<style scoped>\n",
       "    .dataframe tbody tr th:only-of-type {\n",
       "        vertical-align: middle;\n",
       "    }\n",
       "\n",
       "    .dataframe tbody tr th {\n",
       "        vertical-align: top;\n",
       "    }\n",
       "\n",
       "    .dataframe thead th {\n",
       "        text-align: right;\n",
       "    }\n",
       "</style>\n",
       "<table border=\"1\" class=\"dataframe\">\n",
       "  <thead>\n",
       "    <tr style=\"text-align: right;\">\n",
       "      <th></th>\n",
       "      <th>id</th>\n",
       "      <th>breed</th>\n",
       "    </tr>\n",
       "  </thead>\n",
       "  <tbody>\n",
       "    <tr>\n",
       "      <th>0</th>\n",
       "      <td>000bec180eb18c7604dcecc8fe0dba07</td>\n",
       "      <td>boston_bull</td>\n",
       "    </tr>\n",
       "    <tr>\n",
       "      <th>1</th>\n",
       "      <td>001513dfcb2ffafc82cccf4d8bbaba97</td>\n",
       "      <td>dingo</td>\n",
       "    </tr>\n",
       "    <tr>\n",
       "      <th>2</th>\n",
       "      <td>001cdf01b096e06d78e9e5112d419397</td>\n",
       "      <td>pekinese</td>\n",
       "    </tr>\n",
       "    <tr>\n",
       "      <th>3</th>\n",
       "      <td>00214f311d5d2247d5dfe4fe24b2303d</td>\n",
       "      <td>bluetick</td>\n",
       "    </tr>\n",
       "    <tr>\n",
       "      <th>4</th>\n",
       "      <td>0021f9ceb3235effd7fcde7f7538ed62</td>\n",
       "      <td>golden_retriever</td>\n",
       "    </tr>\n",
       "  </tbody>\n",
       "</table>\n",
       "</div>"
      ],
      "text/plain": [
       "                                 id             breed\n",
       "0  000bec180eb18c7604dcecc8fe0dba07       boston_bull\n",
       "1  001513dfcb2ffafc82cccf4d8bbaba97             dingo\n",
       "2  001cdf01b096e06d78e9e5112d419397          pekinese\n",
       "3  00214f311d5d2247d5dfe4fe24b2303d          bluetick\n",
       "4  0021f9ceb3235effd7fcde7f7538ed62  golden_retriever"
      ]
     },
     "execution_count": 7,
     "metadata": {},
     "output_type": "execute_result"
    }
   ],
   "source": [
    "pd_images.head()"
   ]
  },
  {
   "cell_type": "code",
   "execution_count": 8,
   "metadata": {},
   "outputs": [],
   "source": [
    "image_gen = ImageDataGenerator()"
   ]
  },
  {
   "cell_type": "code",
   "execution_count": 9,
   "metadata": {},
   "outputs": [
    {
     "name": "stdout",
     "output_type": "stream",
     "text": [
      "Found 10222 images belonging to 120 classes.\n"
     ]
    }
   ],
   "source": [
    "train_valid_generator = image_gen.flow_from_dataframe(pd_images, TRAIN_DIR, batch_size=BATCH_SIZE, x_col='id', y_col='breed', has_ext=False, target_size=IMAGE_SIZE)"
   ]
  },
  {
   "cell_type": "code",
   "execution_count": 10,
   "metadata": {},
   "outputs": [],
   "source": [
    "num_classes = len(train_valid_generator.class_indices)"
   ]
  },
  {
   "cell_type": "markdown",
   "metadata": {},
   "source": [
    "# Feature extractions using pretrained models"
   ]
  },
  {
   "cell_type": "code",
   "execution_count": 11,
   "metadata": {},
   "outputs": [],
   "source": [
    "class FeaturesExtractor():\n",
    "    def __init__(self, input_shape, pretrained_model, preprocess_input):\n",
    "        self.input_shape = input_shape\n",
    "        model = pretrained_model(include_top=False, input_shape=self.input_shape, weights='imagenet')\n",
    "        inputs = Input(self.input_shape)\n",
    "        x = inputs\n",
    "        x = Lambda(preprocess_input, name='preprocessing')(x)\n",
    "        x = model(x)\n",
    "        x = GlobalAveragePooling2D()(x)\n",
    "        model = Model(inputs, x)\n",
    "        self.model = model\n",
    "    def predict(self, X):\n",
    "        return self.model.predict(X)\n",
    "    def predict_generator(self, X):\n",
    "        return self.model.predict_generator(X)"
   ]
  },
  {
   "cell_type": "code",
   "execution_count": 12,
   "metadata": {},
   "outputs": [
    {
     "name": "stderr",
     "output_type": "stream",
     "text": [
      "/home/trule/anaconda3/lib/python3.6/site-packages/keras_applications/resnet50.py:265: UserWarning: The output shape of `ResNet50(include_top=False)` has been changed since Keras 2.2.0.\n",
      "  warnings.warn('The output shape of `ResNet50(include_top=False)` '\n"
     ]
    }
   ],
   "source": [
    "vgg_features_extractor = FeaturesExtractor(INPUT_SHAPE, vgg16.VGG16, vgg16.preprocess_input)\n",
    "resnet50_features_extractor = FeaturesExtractor(INPUT_SHAPE, resnet50.ResNet50, resnet50.preprocess_input)"
   ]
  },
  {
   "cell_type": "code",
   "execution_count": 13,
   "metadata": {
    "scrolled": true
   },
   "outputs": [
    {
     "name": "stderr",
     "output_type": "stream",
     "text": [
      "100%|███████████████████████████████████████████████████████████████| 20/20 [00:33<00:00,  1.68s/it]\n"
     ]
    }
   ],
   "source": [
    "X_train = np.zeros((train_valid_generator.n,) + INPUT_SHAPE)\n",
    "y_train = np.zeros((train_valid_generator.n, 120))\n",
    "for i in tqdm(range(len(train_valid_generator)), ncols=100):\n",
    "    temp_x, temp_y = train_valid_generator[i]\n",
    "    start_index = i*train_valid_generator.batch_size\n",
    "    X_train[start_index:start_index + temp_x.shape[0]] = temp_x\n",
    "    y_train[start_index:start_index + temp_x.shape[0]] = temp_y\n"
   ]
  },
  {
   "cell_type": "code",
   "execution_count": 14,
   "metadata": {},
   "outputs": [],
   "source": [
    "def create_simple_model(num_classes, input_shape):\n",
    "    inputs = Input(input_shape)\n",
    "    x = inputs\n",
    "    x = Dropout(0.5)(x)\n",
    "    x = Dense(num_classes, activation='softmax')(x)\n",
    "    return Model(inputs, x)\n"
   ]
  },
  {
   "cell_type": "markdown",
   "metadata": {},
   "source": [
    "# Use vgg16"
   ]
  },
  {
   "cell_type": "code",
   "execution_count": 15,
   "metadata": {},
   "outputs": [],
   "source": [
    "# Calculate vgg features\n",
    "vgg_features = vgg_features_extractor.predict(X_train)"
   ]
  },
  {
   "cell_type": "code",
   "execution_count": 16,
   "metadata": {},
   "outputs": [
    {
     "name": "stdout",
     "output_type": "stream",
     "text": [
      "_________________________________________________________________\n",
      "Layer (type)                 Output Shape              Param #   \n",
      "=================================================================\n",
      "input_5 (InputLayer)         (None, 512)               0         \n",
      "_________________________________________________________________\n",
      "dropout_1 (Dropout)          (None, 512)               0         \n",
      "_________________________________________________________________\n",
      "dense_1 (Dense)              (None, 120)               61560     \n",
      "=================================================================\n",
      "Total params: 61,560\n",
      "Trainable params: 61,560\n",
      "Non-trainable params: 0\n",
      "_________________________________________________________________\n"
     ]
    }
   ],
   "source": [
    "vgg_based_model = create_simple_model(num_classes, vgg_features_extractor.model.output.get_shape().as_list()[1:])\n",
    "vgg_based_model.compile(optimizer='adam', loss='categorical_crossentropy', metrics=['accuracy'])\n",
    "if NOT_KAGGLE_KERNEL:\n",
    "    callbacks = [TensorBoard('./data/logs/vgg-{0}'.format(datetime.now().isoformat().replace(':','-').split('.')[0]))]\n",
    "else:\n",
    "    callbacks = []\n",
    "    \n",
    "vgg_based_model.summary()"
   ]
  },
  {
   "cell_type": "code",
   "execution_count": 17,
   "metadata": {},
   "outputs": [
    {
     "name": "stdout",
     "output_type": "stream",
     "text": [
      "Train on 9199 samples, validate on 1023 samples\n",
      "Epoch 1/50\n",
      "9199/9199 [==============================] - 1s 107us/step - loss: 14.8751 - acc: 0.0193 - val_loss: 13.1643 - val_acc: 0.0557\n",
      "Epoch 2/50\n",
      "9199/9199 [==============================] - 0s 11us/step - loss: 13.8951 - acc: 0.0449 - val_loss: 10.7769 - val_acc: 0.1134\n",
      "Epoch 3/50\n",
      "9199/9199 [==============================] - 0s 11us/step - loss: 12.5326 - acc: 0.0859 - val_loss: 9.1578 - val_acc: 0.2151\n",
      "Epoch 4/50\n",
      "9199/9199 [==============================] - 0s 11us/step - loss: 11.2334 - acc: 0.1378 - val_loss: 7.5774 - val_acc: 0.2991\n",
      "Epoch 5/50\n",
      "9199/9199 [==============================] - 0s 10us/step - loss: 9.8059 - acc: 0.1942 - val_loss: 6.3195 - val_acc: 0.3861\n",
      "Epoch 6/50\n",
      "9199/9199 [==============================] - 0s 11us/step - loss: 8.7370 - acc: 0.2423 - val_loss: 5.3871 - val_acc: 0.4076\n",
      "Epoch 7/50\n",
      "9199/9199 [==============================] - 0s 11us/step - loss: 7.7808 - acc: 0.2900 - val_loss: 4.7715 - val_acc: 0.4682\n",
      "Epoch 8/50\n",
      "9199/9199 [==============================] - 0s 11us/step - loss: 6.9398 - acc: 0.3317 - val_loss: 4.0172 - val_acc: 0.5327\n",
      "Epoch 9/50\n",
      "9199/9199 [==============================] - 0s 11us/step - loss: 6.1543 - acc: 0.3790 - val_loss: 3.7410 - val_acc: 0.5562\n",
      "Epoch 10/50\n",
      "9199/9199 [==============================] - 0s 10us/step - loss: 5.6604 - acc: 0.4098 - val_loss: 3.6491 - val_acc: 0.5679\n",
      "Epoch 11/50\n",
      "9199/9199 [==============================] - 0s 11us/step - loss: 5.2685 - acc: 0.4352 - val_loss: 3.4303 - val_acc: 0.5914\n",
      "Epoch 12/50\n",
      "9199/9199 [==============================] - 0s 11us/step - loss: 4.8972 - acc: 0.4610 - val_loss: 3.3501 - val_acc: 0.6022\n",
      "Epoch 13/50\n",
      "9199/9199 [==============================] - 0s 11us/step - loss: 4.5434 - acc: 0.4905 - val_loss: 3.2256 - val_acc: 0.6090\n",
      "Epoch 14/50\n",
      "9199/9199 [==============================] - 0s 11us/step - loss: 4.2507 - acc: 0.5066 - val_loss: 3.0473 - val_acc: 0.6090\n",
      "Epoch 15/50\n",
      "9199/9199 [==============================] - 0s 11us/step - loss: 4.1088 - acc: 0.5146 - val_loss: 2.9213 - val_acc: 0.6305\n",
      "Epoch 16/50\n",
      "9199/9199 [==============================] - 0s 11us/step - loss: 3.7908 - acc: 0.5415 - val_loss: 2.8964 - val_acc: 0.6256\n",
      "Epoch 17/50\n",
      "9199/9199 [==============================] - 0s 10us/step - loss: 3.5187 - acc: 0.5572 - val_loss: 2.6126 - val_acc: 0.6325\n",
      "Epoch 18/50\n",
      "9199/9199 [==============================] - 0s 10us/step - loss: 3.3543 - acc: 0.5652 - val_loss: 2.7073 - val_acc: 0.6373\n",
      "Epoch 19/50\n",
      "9199/9199 [==============================] - 0s 11us/step - loss: 3.2242 - acc: 0.5721 - val_loss: 2.5777 - val_acc: 0.6530\n",
      "Epoch 20/50\n",
      "9199/9199 [==============================] - 0s 10us/step - loss: 3.0645 - acc: 0.5935 - val_loss: 2.5399 - val_acc: 0.6461\n",
      "Epoch 21/50\n",
      "9199/9199 [==============================] - 0s 10us/step - loss: 2.9208 - acc: 0.6046 - val_loss: 2.3960 - val_acc: 0.6706\n",
      "Epoch 22/50\n",
      "9199/9199 [==============================] - 0s 11us/step - loss: 2.9063 - acc: 0.5905 - val_loss: 2.4416 - val_acc: 0.6637\n",
      "Epoch 23/50\n",
      "9199/9199 [==============================] - 0s 11us/step - loss: 2.7456 - acc: 0.6158 - val_loss: 2.3965 - val_acc: 0.6481\n",
      "Epoch 24/50\n",
      "9199/9199 [==============================] - 0s 11us/step - loss: 2.6833 - acc: 0.6183 - val_loss: 2.3940 - val_acc: 0.6471\n",
      "Epoch 25/50\n",
      "9199/9199 [==============================] - 0s 11us/step - loss: 2.5632 - acc: 0.6303 - val_loss: 2.3961 - val_acc: 0.6559\n",
      "Epoch 26/50\n",
      "9199/9199 [==============================] - 0s 11us/step - loss: 2.5274 - acc: 0.6329 - val_loss: 2.3566 - val_acc: 0.6657\n",
      "Epoch 27/50\n",
      "9199/9199 [==============================] - 0s 11us/step - loss: 2.4348 - acc: 0.6389 - val_loss: 2.2815 - val_acc: 0.6588\n",
      "Epoch 28/50\n",
      "9199/9199 [==============================] - 0s 11us/step - loss: 2.3450 - acc: 0.6454 - val_loss: 2.3104 - val_acc: 0.6637\n",
      "Epoch 29/50\n",
      "9199/9199 [==============================] - 0s 11us/step - loss: 2.2876 - acc: 0.6542 - val_loss: 2.2059 - val_acc: 0.6667\n",
      "Epoch 30/50\n",
      "9199/9199 [==============================] - 0s 11us/step - loss: 2.2806 - acc: 0.6485 - val_loss: 2.2206 - val_acc: 0.6637\n",
      "Epoch 31/50\n",
      "9199/9199 [==============================] - 0s 10us/step - loss: 2.1705 - acc: 0.6546 - val_loss: 2.1295 - val_acc: 0.6745\n",
      "Epoch 32/50\n",
      "9199/9199 [==============================] - 0s 11us/step - loss: 2.1168 - acc: 0.6640 - val_loss: 2.1329 - val_acc: 0.6608\n",
      "Epoch 33/50\n",
      "9199/9199 [==============================] - 0s 11us/step - loss: 2.1146 - acc: 0.6649 - val_loss: 2.1425 - val_acc: 0.6549\n",
      "Epoch 34/50\n",
      "9199/9199 [==============================] - 0s 11us/step - loss: 2.0987 - acc: 0.6612 - val_loss: 2.1658 - val_acc: 0.6608\n",
      "Epoch 35/50\n",
      "9199/9199 [==============================] - 0s 10us/step - loss: 2.0266 - acc: 0.6659 - val_loss: 2.0875 - val_acc: 0.6598\n",
      "Epoch 36/50\n",
      "9199/9199 [==============================] - 0s 11us/step - loss: 2.0084 - acc: 0.6645 - val_loss: 2.1385 - val_acc: 0.6618\n",
      "Epoch 37/50\n",
      "9199/9199 [==============================] - 0s 11us/step - loss: 1.9541 - acc: 0.6716 - val_loss: 2.0658 - val_acc: 0.6657\n",
      "Epoch 38/50\n",
      "9199/9199 [==============================] - 0s 11us/step - loss: 1.9597 - acc: 0.6728 - val_loss: 2.1394 - val_acc: 0.6452\n",
      "Epoch 39/50\n",
      "9199/9199 [==============================] - 0s 11us/step - loss: 1.9196 - acc: 0.6830 - val_loss: 2.1234 - val_acc: 0.6598\n",
      "Epoch 40/50\n",
      "9199/9199 [==============================] - 0s 11us/step - loss: 1.9055 - acc: 0.6867 - val_loss: 2.1036 - val_acc: 0.6461\n",
      "Epoch 41/50\n",
      "9199/9199 [==============================] - 0s 11us/step - loss: 1.8850 - acc: 0.6866 - val_loss: 2.0971 - val_acc: 0.6588\n",
      "Epoch 42/50\n",
      "9199/9199 [==============================] - 0s 11us/step - loss: 1.8379 - acc: 0.6862 - val_loss: 2.1558 - val_acc: 0.6481\n",
      "Epoch 43/50\n",
      "9199/9199 [==============================] - 0s 11us/step - loss: 1.8943 - acc: 0.6766 - val_loss: 2.0481 - val_acc: 0.6559\n",
      "Epoch 44/50\n",
      "9199/9199 [==============================] - 0s 11us/step - loss: 1.8032 - acc: 0.6870 - val_loss: 2.0600 - val_acc: 0.6579\n",
      "Epoch 45/50\n",
      "9199/9199 [==============================] - 0s 11us/step - loss: 1.7932 - acc: 0.6904 - val_loss: 2.0867 - val_acc: 0.6579\n",
      "Epoch 46/50\n",
      "9199/9199 [==============================] - 0s 11us/step - loss: 1.8216 - acc: 0.6832 - val_loss: 2.0034 - val_acc: 0.6628\n",
      "Epoch 47/50\n",
      "9199/9199 [==============================] - 0s 11us/step - loss: 1.7700 - acc: 0.6894 - val_loss: 2.0797 - val_acc: 0.6647\n",
      "Epoch 48/50\n",
      "9199/9199 [==============================] - 0s 11us/step - loss: 1.7534 - acc: 0.6922 - val_loss: 2.1130 - val_acc: 0.6676\n",
      "Epoch 49/50\n",
      "9199/9199 [==============================] - 0s 11us/step - loss: 1.7476 - acc: 0.6836 - val_loss: 2.0650 - val_acc: 0.6637\n",
      "Epoch 50/50\n",
      "9199/9199 [==============================] - 0s 11us/step - loss: 1.7904 - acc: 0.6906 - val_loss: 2.0845 - val_acc: 0.6588\n"
     ]
    },
    {
     "data": {
      "text/plain": [
       "<keras.callbacks.History at 0x7f5ef8262630>"
      ]
     },
     "execution_count": 17,
     "metadata": {},
     "output_type": "execute_result"
    }
   ],
   "source": [
    "vgg_based_model.fit(vgg_features, y_train, batch_size=256, epochs=EPOCHS, callbacks=callbacks, validation_split=0.1)"
   ]
  },
  {
   "cell_type": "markdown",
   "metadata": {},
   "source": [
    "# Use resnet50"
   ]
  },
  {
   "cell_type": "code",
   "execution_count": 18,
   "metadata": {},
   "outputs": [],
   "source": [
    "resnet50_features = resnet50_features_extractor.predict(X_train)"
   ]
  },
  {
   "cell_type": "code",
   "execution_count": 19,
   "metadata": {},
   "outputs": [],
   "source": [
    "resnet50_based_model = create_simple_model(num_classes, resnet50_features_extractor.model.output.get_shape().as_list()[1:])\n",
    "resnet50_based_model.compile(optimizer='adam', loss='categorical_crossentropy', metrics=['accuracy'])\n",
    "if NOT_KAGGLE_KERNEL:\n",
    "    callbacks = [TensorBoard('./data/logs/resnet50-{0}'.format(datetime.now().isoformat().replace(':','-').split('.')[0]))]\n",
    "else:\n",
    "    callbacks = []"
   ]
  },
  {
   "cell_type": "code",
   "execution_count": 20,
   "metadata": {},
   "outputs": [
    {
     "name": "stdout",
     "output_type": "stream",
     "text": [
      "Train on 9199 samples, validate on 1023 samples\n",
      "Epoch 1/50\n",
      "9199/9199 [==============================] - 1s 97us/step - loss: 3.9218 - acc: 0.1719 - val_loss: 1.7734 - val_acc: 0.5738\n",
      "Epoch 2/50\n",
      "9199/9199 [==============================] - 0s 13us/step - loss: 1.6698 - acc: 0.5465 - val_loss: 1.1182 - val_acc: 0.6950\n",
      "Epoch 3/50\n",
      "9199/9199 [==============================] - 0s 12us/step - loss: 1.1593 - acc: 0.6721 - val_loss: 0.9727 - val_acc: 0.7224\n",
      "Epoch 4/50\n",
      "9199/9199 [==============================] - 0s 12us/step - loss: 0.9187 - acc: 0.7303 - val_loss: 0.9044 - val_acc: 0.7351\n",
      "Epoch 5/50\n",
      "9199/9199 [==============================] - 0s 12us/step - loss: 0.7735 - acc: 0.7758 - val_loss: 0.8445 - val_acc: 0.7429\n",
      "Epoch 6/50\n",
      "9199/9199 [==============================] - 0s 13us/step - loss: 0.6707 - acc: 0.8090 - val_loss: 0.8075 - val_acc: 0.7537\n",
      "Epoch 7/50\n",
      "9199/9199 [==============================] - 0s 13us/step - loss: 0.5925 - acc: 0.8227 - val_loss: 0.8121 - val_acc: 0.7546\n",
      "Epoch 8/50\n",
      "9199/9199 [==============================] - 0s 13us/step - loss: 0.5293 - acc: 0.8423 - val_loss: 0.7903 - val_acc: 0.7634\n",
      "Epoch 9/50\n",
      "9199/9199 [==============================] - 0s 13us/step - loss: 0.4741 - acc: 0.8610 - val_loss: 0.7854 - val_acc: 0.7605\n",
      "Epoch 10/50\n",
      "9199/9199 [==============================] - 0s 13us/step - loss: 0.4308 - acc: 0.8713 - val_loss: 0.7786 - val_acc: 0.7742\n",
      "Epoch 11/50\n",
      "9199/9199 [==============================] - 0s 13us/step - loss: 0.3984 - acc: 0.8828 - val_loss: 0.7836 - val_acc: 0.7644\n",
      "Epoch 12/50\n",
      "9199/9199 [==============================] - 0s 12us/step - loss: 0.3633 - acc: 0.8915 - val_loss: 0.7828 - val_acc: 0.7752\n",
      "Epoch 13/50\n",
      "9199/9199 [==============================] - 0s 14us/step - loss: 0.3453 - acc: 0.9001 - val_loss: 0.7760 - val_acc: 0.7683\n",
      "Epoch 14/50\n",
      "9199/9199 [==============================] - 0s 13us/step - loss: 0.3168 - acc: 0.9094 - val_loss: 0.7628 - val_acc: 0.7791\n",
      "Epoch 15/50\n",
      "9199/9199 [==============================] - 0s 13us/step - loss: 0.2979 - acc: 0.9136 - val_loss: 0.7608 - val_acc: 0.7810\n",
      "Epoch 16/50\n",
      "9199/9199 [==============================] - 0s 12us/step - loss: 0.2678 - acc: 0.9286 - val_loss: 0.7590 - val_acc: 0.7801\n",
      "Epoch 17/50\n",
      "9199/9199 [==============================] - 0s 13us/step - loss: 0.2560 - acc: 0.9301 - val_loss: 0.7870 - val_acc: 0.7781\n",
      "Epoch 18/50\n",
      "9199/9199 [==============================] - 0s 12us/step - loss: 0.2450 - acc: 0.9318 - val_loss: 0.7932 - val_acc: 0.7703\n",
      "Epoch 19/50\n",
      "9199/9199 [==============================] - 0s 13us/step - loss: 0.2294 - acc: 0.9392 - val_loss: 0.7905 - val_acc: 0.7742\n",
      "Epoch 20/50\n",
      "9199/9199 [==============================] - 0s 12us/step - loss: 0.2219 - acc: 0.9389 - val_loss: 0.7914 - val_acc: 0.7732\n",
      "Epoch 21/50\n",
      "9199/9199 [==============================] - 0s 13us/step - loss: 0.2112 - acc: 0.9412 - val_loss: 0.7932 - val_acc: 0.7703\n",
      "Epoch 22/50\n",
      "9199/9199 [==============================] - 0s 13us/step - loss: 0.2049 - acc: 0.9429 - val_loss: 0.7863 - val_acc: 0.7615\n",
      "Epoch 23/50\n",
      "9199/9199 [==============================] - 0s 12us/step - loss: 0.1940 - acc: 0.9481 - val_loss: 0.7909 - val_acc: 0.7820\n",
      "Epoch 24/50\n",
      "9199/9199 [==============================] - 0s 13us/step - loss: 0.1833 - acc: 0.9564 - val_loss: 0.7928 - val_acc: 0.7713\n",
      "Epoch 25/50\n",
      "9199/9199 [==============================] - 0s 12us/step - loss: 0.1742 - acc: 0.9563 - val_loss: 0.8045 - val_acc: 0.7664\n",
      "Epoch 26/50\n",
      "9199/9199 [==============================] - 0s 13us/step - loss: 0.1695 - acc: 0.9578 - val_loss: 0.8089 - val_acc: 0.7742\n",
      "Epoch 27/50\n",
      "9199/9199 [==============================] - 0s 13us/step - loss: 0.1650 - acc: 0.9543 - val_loss: 0.8211 - val_acc: 0.7683\n",
      "Epoch 28/50\n",
      "9199/9199 [==============================] - 0s 13us/step - loss: 0.1624 - acc: 0.9577 - val_loss: 0.7987 - val_acc: 0.7801\n",
      "Epoch 29/50\n",
      "9199/9199 [==============================] - 0s 13us/step - loss: 0.1560 - acc: 0.9587 - val_loss: 0.8111 - val_acc: 0.7791\n",
      "Epoch 30/50\n",
      "9199/9199 [==============================] - 0s 13us/step - loss: 0.1464 - acc: 0.9636 - val_loss: 0.8049 - val_acc: 0.7781\n",
      "Epoch 31/50\n",
      "9199/9199 [==============================] - 0s 13us/step - loss: 0.1403 - acc: 0.9646 - val_loss: 0.8320 - val_acc: 0.7703\n",
      "Epoch 32/50\n",
      "9199/9199 [==============================] - 0s 13us/step - loss: 0.1401 - acc: 0.9647 - val_loss: 0.8223 - val_acc: 0.7644\n",
      "Epoch 33/50\n",
      "9199/9199 [==============================] - 0s 13us/step - loss: 0.1359 - acc: 0.9638 - val_loss: 0.8327 - val_acc: 0.7654\n",
      "Epoch 34/50\n",
      "9199/9199 [==============================] - 0s 13us/step - loss: 0.1277 - acc: 0.9706 - val_loss: 0.8242 - val_acc: 0.7674\n",
      "Epoch 35/50\n",
      "9199/9199 [==============================] - 0s 13us/step - loss: 0.1266 - acc: 0.9690 - val_loss: 0.8475 - val_acc: 0.7683\n",
      "Epoch 36/50\n",
      "9199/9199 [==============================] - 0s 13us/step - loss: 0.1180 - acc: 0.9725 - val_loss: 0.8332 - val_acc: 0.7732\n",
      "Epoch 37/50\n",
      "9199/9199 [==============================] - 0s 13us/step - loss: 0.1123 - acc: 0.9734 - val_loss: 0.8320 - val_acc: 0.7732\n",
      "Epoch 38/50\n",
      "9199/9199 [==============================] - 0s 12us/step - loss: 0.1179 - acc: 0.9709 - val_loss: 0.8286 - val_acc: 0.7761\n",
      "Epoch 39/50\n",
      "9199/9199 [==============================] - 0s 13us/step - loss: 0.1121 - acc: 0.9729 - val_loss: 0.8560 - val_acc: 0.7693\n",
      "Epoch 40/50\n",
      "9199/9199 [==============================] - 0s 13us/step - loss: 0.1128 - acc: 0.9705 - val_loss: 0.8591 - val_acc: 0.7693\n",
      "Epoch 41/50\n",
      "9199/9199 [==============================] - 0s 13us/step - loss: 0.1093 - acc: 0.9737 - val_loss: 0.8466 - val_acc: 0.7703\n",
      "Epoch 42/50\n",
      "9199/9199 [==============================] - 0s 12us/step - loss: 0.1093 - acc: 0.9713 - val_loss: 0.8469 - val_acc: 0.7742\n",
      "Epoch 43/50\n",
      "9199/9199 [==============================] - 0s 13us/step - loss: 0.1032 - acc: 0.9736 - val_loss: 0.8341 - val_acc: 0.7722\n",
      "Epoch 44/50\n",
      "9199/9199 [==============================] - 0s 12us/step - loss: 0.1035 - acc: 0.9739 - val_loss: 0.8546 - val_acc: 0.7615\n",
      "Epoch 45/50\n",
      "9199/9199 [==============================] - 0s 13us/step - loss: 0.0997 - acc: 0.9759 - val_loss: 0.8723 - val_acc: 0.7654\n",
      "Epoch 46/50\n",
      "9199/9199 [==============================] - 0s 13us/step - loss: 0.0948 - acc: 0.9781 - val_loss: 0.8631 - val_acc: 0.7703\n",
      "Epoch 47/50\n",
      "9199/9199 [==============================] - 0s 13us/step - loss: 0.0964 - acc: 0.9756 - val_loss: 0.8774 - val_acc: 0.7625\n",
      "Epoch 48/50\n",
      "9199/9199 [==============================] - 0s 13us/step - loss: 0.0962 - acc: 0.9751 - val_loss: 0.8664 - val_acc: 0.7674\n",
      "Epoch 49/50\n",
      "9199/9199 [==============================] - 0s 13us/step - loss: 0.0924 - acc: 0.9785 - val_loss: 0.8992 - val_acc: 0.7693\n",
      "Epoch 50/50\n",
      "9199/9199 [==============================] - 0s 13us/step - loss: 0.0930 - acc: 0.9766 - val_loss: 0.8677 - val_acc: 0.7722\n"
     ]
    },
    {
     "data": {
      "text/plain": [
       "<keras.callbacks.History at 0x7f5ef809f828>"
      ]
     },
     "execution_count": 20,
     "metadata": {},
     "output_type": "execute_result"
    }
   ],
   "source": [
    "resnet50_based_model.fit(resnet50_features, y_train, batch_size=256, epochs=EPOCHS,  callbacks=callbacks, validation_split=0.1)"
   ]
  },
  {
   "cell_type": "markdown",
   "metadata": {},
   "source": [
    "# Confusion matrix (VGG)"
   ]
  },
  {
   "cell_type": "code",
   "execution_count": 21,
   "metadata": {},
   "outputs": [],
   "source": [
    "index2labels = {}\n",
    "for k, v in train_valid_generator.class_indices.items():\n",
    "    index2labels[v] = k"
   ]
  },
  {
   "cell_type": "code",
   "execution_count": null,
   "metadata": {
    "scrolled": true
   },
   "outputs": [
    {
     "name": "stderr",
     "output_type": "stream",
     "text": [
      " 70%|████████████████████████████████████████████                   | 14/20 [00:44<00:18,  3.14s/it]"
     ]
    }
   ],
   "source": [
    "preds = []\n",
    "targets = []\n",
    "for i in tqdm(range(len(train_valid_generator)), ncols=100):\n",
    "    x, y = train_valid_generator[i]\n",
    "    p = vgg_based_model.predict(vgg_features_extractor.predict(x))\n",
    "    p = np.argmax(p, axis=1)    \n",
    "    y = np.argmax(y, axis=1)\n",
    "    preds = np.concatenate((preds, p))\n",
    "    targets = np.concatenate((targets, y))\n",
    "from sklearn.metrics import confusion_matrix\n",
    "print(np.sum(targets == preds))\n",
    "print(preds[0:10])\n",
    "print(targets[0:10])\n",
    "cm = confusion_matrix(targets, preds)\n",
    "print(cm[0:10, 0:10])"
   ]
  },
  {
   "cell_type": "code",
   "execution_count": null,
   "metadata": {},
   "outputs": [],
   "source": [
    "import seaborn as sn\n",
    "import matplotlib.pyplot as plt\n",
    "%matplotlib inline\n",
    "df_cm = pd.DataFrame(cm)\n",
    "plt.figure(figsize = (10,10))\n",
    "sn.heatmap(df_cm, annot=False)"
   ]
  },
  {
   "cell_type": "markdown",
   "metadata": {},
   "source": [
    "# Prepare submission data"
   ]
  },
  {
   "cell_type": "code",
   "execution_count": null,
   "metadata": {},
   "outputs": [],
   "source": [
    "pd_test = pd.DataFrame(glob(TEST_DIR +'/*.jp*g'), columns=['filename'])\n",
    "test_generator = image_gen.flow_from_dataframe(pd_test, TEST_DIR,  class_mode=None, target_size=IMAGE_SIZE, shuffle=False)"
   ]
  },
  {
   "cell_type": "code",
   "execution_count": null,
   "metadata": {},
   "outputs": [],
   "source": [
    "test_resnet_features = resnet50_features_extractor.predict_generator(test_generator)"
   ]
  },
  {
   "cell_type": "code",
   "execution_count": null,
   "metadata": {},
   "outputs": [],
   "source": [
    "type(test_resnet_features)"
   ]
  },
  {
   "cell_type": "code",
   "execution_count": null,
   "metadata": {},
   "outputs": [],
   "source": [
    "test_probs = resnet50_based_model.predict(test_resnet_features)"
   ]
  },
  {
   "cell_type": "code",
   "execution_count": null,
   "metadata": {},
   "outputs": [],
   "source": [
    "pd_sub = pd.read_csv(os.path.join(ROOT_DIR, 'sample_submission.csv'))"
   ]
  },
  {
   "cell_type": "code",
   "execution_count": null,
   "metadata": {},
   "outputs": [],
   "source": [
    "sub_mission = pd.DataFrame(test_probs, index=pd_sub.index, columns=pd_sub.columns[1:])\n",
    "sub_mission['id'] = pd_sub['id']\n",
    "sub_mission_cols = sub_mission.columns.tolist()\n",
    "sub_mission = sub_mission[sub_mission_cols[-1:] + sub_mission_cols[:-1]]"
   ]
  },
  {
   "cell_type": "code",
   "execution_count": null,
   "metadata": {},
   "outputs": [],
   "source": [
    "sub_mission.to_csv(os.path.join(ROOT_DIR, 'my_submission.csv'), index=False)"
   ]
  },
  {
   "cell_type": "code",
   "execution_count": null,
   "metadata": {},
   "outputs": [],
   "source": []
  }
 ],
 "metadata": {
  "kernelspec": {
   "display_name": "Python 3",
   "language": "python",
   "name": "python3"
  },
  "language_info": {
   "codemirror_mode": {
    "name": "ipython",
    "version": 3
   },
   "file_extension": ".py",
   "mimetype": "text/x-python",
   "name": "python",
   "nbconvert_exporter": "python",
   "pygments_lexer": "ipython3",
   "version": "3.6.5"
  }
 },
 "nbformat": 4,
 "nbformat_minor": 2
}
