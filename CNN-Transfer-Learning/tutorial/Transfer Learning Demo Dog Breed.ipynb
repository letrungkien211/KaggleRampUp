{
 "cells": [
  {
   "cell_type": "markdown",
   "metadata": {},
   "source": [
    "# Import"
   ]
  },
  {
   "cell_type": "code",
   "execution_count": 32,
   "metadata": {},
   "outputs": [],
   "source": [
    "from keras.preprocessing.image import ImageDataGenerator\n",
    "import pandas as pd\n",
    "import os\n",
    "from keras.models import Model\n",
    "from keras.layers import Dense, Flatten, GlobalAveragePooling2D, Dropout, Input, AveragePooling2D, Lambda\n",
    "from urllib import request\n",
    "from keras.callbacks import TensorBoard, ModelCheckpoint\n",
    "import tempfile\n",
    "from keras import optimizers\n",
    "from keras.utils import Sequence\n",
    "import numpy as np\n",
    "from tqdm import tqdm\n",
    "from datetime import datetime\n",
    "from keras.applications import vgg16, resnet50\n",
    "from glob import glob\n",
    "from IPython.display import Image\n",
    "import json"
   ]
  },
  {
   "cell_type": "markdown",
   "metadata": {},
   "source": [
    "# Utils"
   ]
  },
  {
   "cell_type": "code",
   "execution_count": 33,
   "metadata": {},
   "outputs": [],
   "source": [
    "def mkdir(path):\n",
    "    directory = os.path.dirname(path)\n",
    "    if not os.path.exists(directory):\n",
    "        os.makedirs(directory)"
   ]
  },
  {
   "cell_type": "markdown",
   "metadata": {},
   "source": [
    "# Define parameters"
   ]
  },
  {
   "cell_type": "code",
   "execution_count": 34,
   "metadata": {},
   "outputs": [],
   "source": [
    "ROOT_DIR = './data/dog-breed'\n",
    "TRAIN_DIR = os.path.join(ROOT_DIR, 'train')\n",
    "TEST_DIR = os.path.join(ROOT_DIR, 'test')\n",
    "MODELS_DIR = './data/models/2/'\n",
    "LOGS_DIR = './data/logs/'\n",
    "\n",
    "EPOCHS = 50\n",
    "BATCH_SIZE = 1024\n",
    "IMAGE_SIZE = (224,224)\n",
    "INPUT_SHAPE = IMAGE_SIZE + (3,)\n",
    "\n",
    "mkdir(MODELS_DIR)"
   ]
  },
  {
   "cell_type": "markdown",
   "metadata": {},
   "source": [
    "# Fetch data (if not exist)"
   ]
  },
  {
   "cell_type": "code",
   "execution_count": 35,
   "metadata": {},
   "outputs": [],
   "source": [
    "def fetch_data():\n",
    "    if not os.path.exists(ROOT_DIR):\n",
    "        os.makedirs(ROOT_DIR)\n",
    "        zip_path = os.path.join(tempfile.gettempdir(), 'dog-breed.zip')\n",
    "        print('Start download!')\n",
    "        request.urlretrieve('https://kienle.blob.core.windows.net/public/kaggle/dog-breed.zip', zip_path)\n",
    "        print('Start unzip')\n",
    "        import zipfile\n",
    "        with zipfile.ZipFile(zip_path, 'r') as zip_ref:\n",
    "            zip_ref.extractall(ROOT_DIR)\n",
    "        with zipfile.ZipFile(os.path.join(ROOT_DIR,'test.zip'), 'r') as zip_ref:\n",
    "            zip_ref.extractall(ROOT_DIR)\n",
    "        with zipfile.ZipFile(os.path.join(ROOT_DIR,'train.zip'), 'r') as zip_ref:\n",
    "            zip_ref.extractall(ROOT_DIR)\n",
    "        os.remove(zip_path)\n",
    "        os.remove(os.path.join(ROOT_DIR,'train.zip'))\n",
    "        os.remove(os.path.join(ROOT_DIR,'test.zip'))\n",
    "        print('Done')\n",
    "fetch_data()"
   ]
  },
  {
   "cell_type": "code",
   "execution_count": 5,
   "metadata": {},
   "outputs": [
    {
     "name": "stdout",
     "output_type": "stream",
     "text": [
      "labels.csv  sample_submission.csv  test  train\r\n"
     ]
    }
   ],
   "source": [
    "# Confirm all data are ready \n",
    "# Expected output: labels.csv  sample_submission.csv  test  train\n",
    "!ls $ROOT_DIR"
   ]
  },
  {
   "cell_type": "markdown",
   "metadata": {},
   "source": [
    "# Explore dataset"
   ]
  },
  {
   "cell_type": "code",
   "execution_count": 36,
   "metadata": {},
   "outputs": [],
   "source": [
    "pd_images = pd.read_csv(os.path.join(ROOT_DIR, 'labels.csv'))"
   ]
  },
  {
   "cell_type": "code",
   "execution_count": 37,
   "metadata": {
    "scrolled": false
   },
   "outputs": [
    {
     "data": {
      "text/html": [
       "<div>\n",
       "<style scoped>\n",
       "    .dataframe tbody tr th:only-of-type {\n",
       "        vertical-align: middle;\n",
       "    }\n",
       "\n",
       "    .dataframe tbody tr th {\n",
       "        vertical-align: top;\n",
       "    }\n",
       "\n",
       "    .dataframe thead th {\n",
       "        text-align: right;\n",
       "    }\n",
       "</style>\n",
       "<table border=\"1\" class=\"dataframe\">\n",
       "  <thead>\n",
       "    <tr style=\"text-align: right;\">\n",
       "      <th></th>\n",
       "      <th>id</th>\n",
       "      <th>breed</th>\n",
       "    </tr>\n",
       "  </thead>\n",
       "  <tbody>\n",
       "    <tr>\n",
       "      <th>0</th>\n",
       "      <td>000bec180eb18c7604dcecc8fe0dba07</td>\n",
       "      <td>boston_bull</td>\n",
       "    </tr>\n",
       "    <tr>\n",
       "      <th>1</th>\n",
       "      <td>001513dfcb2ffafc82cccf4d8bbaba97</td>\n",
       "      <td>dingo</td>\n",
       "    </tr>\n",
       "    <tr>\n",
       "      <th>2</th>\n",
       "      <td>001cdf01b096e06d78e9e5112d419397</td>\n",
       "      <td>pekinese</td>\n",
       "    </tr>\n",
       "    <tr>\n",
       "      <th>3</th>\n",
       "      <td>00214f311d5d2247d5dfe4fe24b2303d</td>\n",
       "      <td>bluetick</td>\n",
       "    </tr>\n",
       "    <tr>\n",
       "      <th>4</th>\n",
       "      <td>0021f9ceb3235effd7fcde7f7538ed62</td>\n",
       "      <td>golden_retriever</td>\n",
       "    </tr>\n",
       "  </tbody>\n",
       "</table>\n",
       "</div>"
      ],
      "text/plain": [
       "                                 id             breed\n",
       "0  000bec180eb18c7604dcecc8fe0dba07       boston_bull\n",
       "1  001513dfcb2ffafc82cccf4d8bbaba97             dingo\n",
       "2  001cdf01b096e06d78e9e5112d419397          pekinese\n",
       "3  00214f311d5d2247d5dfe4fe24b2303d          bluetick\n",
       "4  0021f9ceb3235effd7fcde7f7538ed62  golden_retriever"
      ]
     },
     "execution_count": 37,
     "metadata": {},
     "output_type": "execute_result"
    }
   ],
   "source": [
    "pd_images.head()"
   ]
  },
  {
   "cell_type": "code",
   "execution_count": 39,
   "metadata": {
    "scrolled": true
   },
   "outputs": [
    {
     "name": "stdout",
     "output_type": "stream",
     "text": [
      "dingo\n"
     ]
    },
    {
     "data": {
      "image/jpeg": "[encoded data removed]",
      "text/plain": [
       "<IPython.core.display.Image object>"
      ]
     },
     "execution_count": 39,
     "metadata": {},
     "output_type": "execute_result"
    }
   ],
   "source": [
    "title = pd_images.breed[1]\n",
    "path = os.path.join(TRAIN_DIR, pd_images.id[1] + '.jpg')\n",
    "print(title)\n",
    "Image(filename=path)"
   ]
  },
  {
   "cell_type": "markdown",
   "metadata": {},
   "source": [
    "# Load images by ImageDataGenerator"
   ]
  },
  {
   "cell_type": "code",
   "execution_count": 9,
   "metadata": {},
   "outputs": [],
   "source": [
    "image_gen = ImageDataGenerator()"
   ]
  },
  {
   "cell_type": "code",
   "execution_count": 10,
   "metadata": {},
   "outputs": [
    {
     "name": "stdout",
     "output_type": "stream",
     "text": [
      "Found 10222 images belonging to 120 classes.\n"
     ]
    }
   ],
   "source": [
    "train_valid_generator = image_gen.flow_from_dataframe(pd_images, TRAIN_DIR, batch_size=BATCH_SIZE, x_col='id', y_col='breed', has_ext=False, target_size=IMAGE_SIZE)"
   ]
  },
  {
   "cell_type": "code",
   "execution_count": 11,
   "metadata": {},
   "outputs": [],
   "source": [
    "num_classes = len(train_valid_generator.class_indices)"
   ]
  },
  {
   "cell_type": "code",
   "execution_count": 12,
   "metadata": {},
   "outputs": [
    {
     "data": {
      "text/plain": [
       "{'boston_bull': 0,\n",
       " 'dingo': 1,\n",
       " 'pekinese': 2,\n",
       " 'bluetick': 3,\n",
       " 'golden_retriever': 4,\n",
       " 'bedlington_terrier': 5,\n",
       " 'borzoi': 6,\n",
       " 'basenji': 7,\n",
       " 'scottish_deerhound': 8,\n",
       " 'shetland_sheepdog': 9,\n",
       " 'walker_hound': 10,\n",
       " 'maltese_dog': 11,\n",
       " 'norfolk_terrier': 12,\n",
       " 'african_hunting_dog': 13,\n",
       " 'wire-haired_fox_terrier': 14,\n",
       " 'redbone': 15,\n",
       " 'lakeland_terrier': 16,\n",
       " 'boxer': 17,\n",
       " 'doberman': 18,\n",
       " 'otterhound': 19,\n",
       " 'standard_schnauzer': 20,\n",
       " 'irish_water_spaniel': 21,\n",
       " 'black-and-tan_coonhound': 22,\n",
       " 'cairn': 23,\n",
       " 'affenpinscher': 24,\n",
       " 'labrador_retriever': 25,\n",
       " 'ibizan_hound': 26,\n",
       " 'english_setter': 27,\n",
       " 'weimaraner': 28,\n",
       " 'giant_schnauzer': 29,\n",
       " 'groenendael': 30,\n",
       " 'dhole': 31,\n",
       " 'toy_poodle': 32,\n",
       " 'border_terrier': 33,\n",
       " 'tibetan_terrier': 34,\n",
       " 'norwegian_elkhound': 35,\n",
       " 'shih-tzu': 36,\n",
       " 'irish_terrier': 37,\n",
       " 'kuvasz': 38,\n",
       " 'german_shepherd': 39,\n",
       " 'greater_swiss_mountain_dog': 40,\n",
       " 'basset': 41,\n",
       " 'australian_terrier': 42,\n",
       " 'schipperke': 43,\n",
       " 'rhodesian_ridgeback': 44,\n",
       " 'irish_setter': 45,\n",
       " 'appenzeller': 46,\n",
       " 'bloodhound': 47,\n",
       " 'samoyed': 48,\n",
       " 'miniature_schnauzer': 49,\n",
       " 'brittany_spaniel': 50,\n",
       " 'kelpie': 51,\n",
       " 'papillon': 52,\n",
       " 'border_collie': 53,\n",
       " 'entlebucher': 54,\n",
       " 'collie': 55,\n",
       " 'malamute': 56,\n",
       " 'welsh_springer_spaniel': 57,\n",
       " 'chihuahua': 58,\n",
       " 'saluki': 59,\n",
       " 'pug': 60,\n",
       " 'malinois': 61,\n",
       " 'komondor': 62,\n",
       " 'airedale': 63,\n",
       " 'leonberg': 64,\n",
       " 'mexican_hairless': 65,\n",
       " 'bull_mastiff': 66,\n",
       " 'bernese_mountain_dog': 67,\n",
       " 'american_staffordshire_terrier': 68,\n",
       " 'lhasa': 69,\n",
       " 'cardigan': 70,\n",
       " 'italian_greyhound': 71,\n",
       " 'clumber': 72,\n",
       " 'scotch_terrier': 73,\n",
       " 'afghan_hound': 74,\n",
       " 'old_english_sheepdog': 75,\n",
       " 'saint_bernard': 76,\n",
       " 'miniature_pinscher': 77,\n",
       " 'eskimo_dog': 78,\n",
       " 'irish_wolfhound': 79,\n",
       " 'brabancon_griffon': 80,\n",
       " 'toy_terrier': 81,\n",
       " 'chow': 82,\n",
       " 'flat-coated_retriever': 83,\n",
       " 'norwich_terrier': 84,\n",
       " 'soft-coated_wheaten_terrier': 85,\n",
       " 'staffordshire_bullterrier': 86,\n",
       " 'english_foxhound': 87,\n",
       " 'gordon_setter': 88,\n",
       " 'siberian_husky': 89,\n",
       " 'newfoundland': 90,\n",
       " 'briard': 91,\n",
       " 'chesapeake_bay_retriever': 92,\n",
       " 'dandie_dinmont': 93,\n",
       " 'great_pyrenees': 94,\n",
       " 'beagle': 95,\n",
       " 'vizsla': 96,\n",
       " 'west_highland_white_terrier': 97,\n",
       " 'kerry_blue_terrier': 98,\n",
       " 'whippet': 99,\n",
       " 'sealyham_terrier': 100,\n",
       " 'standard_poodle': 101,\n",
       " 'keeshond': 102,\n",
       " 'japanese_spaniel': 103,\n",
       " 'miniature_poodle': 104,\n",
       " 'pomeranian': 105,\n",
       " 'curly-coated_retriever': 106,\n",
       " 'yorkshire_terrier': 107,\n",
       " 'pembroke': 108,\n",
       " 'great_dane': 109,\n",
       " 'blenheim_spaniel': 110,\n",
       " 'silky_terrier': 111,\n",
       " 'sussex_spaniel': 112,\n",
       " 'german_short-haired_pointer': 113,\n",
       " 'french_bulldog': 114,\n",
       " 'bouvier_des_flandres': 115,\n",
       " 'tibetan_mastiff': 116,\n",
       " 'english_springer': 117,\n",
       " 'cocker_spaniel': 118,\n",
       " 'rottweiler': 119}"
      ]
     },
     "execution_count": 12,
     "metadata": {},
     "output_type": "execute_result"
    }
   ],
   "source": [
    "train_valid_generator.class_indices"
   ]
  },
  {
   "cell_type": "markdown",
   "metadata": {},
   "source": [
    "# Feature extractions using pretrained models"
   ]
  },
  {
   "cell_type": "code",
   "execution_count": 40,
   "metadata": {},
   "outputs": [],
   "source": [
    "def FeaturesExtractor(input_shape, pretrained_model, preprocess_input):\n",
    "    model = pretrained_model(include_top=False, input_shape=input_shape, weights='imagenet')\n",
    "    inputs = Input(input_shape)\n",
    "    x = inputs\n",
    "    x = Lambda(preprocess_input, name='preprocessing')(x)\n",
    "    x = model(x)\n",
    "    x = GlobalAveragePooling2D()(x)\n",
    "    return Model(inputs, x)"
   ]
  },
  {
   "cell_type": "markdown",
   "metadata": {},
   "source": [
    "# Prepare training dataset"
   ]
  },
  {
   "cell_type": "code",
   "execution_count": 41,
   "metadata": {
    "scrolled": true
   },
   "outputs": [
    {
     "name": "stderr",
     "output_type": "stream",
     "text": [
      "100%|█████████████████████████████████████████████████████████████████| 5/5 [00:48<00:00,  9.78s/it]\n"
     ]
    }
   ],
   "source": [
    "X_train = np.zeros((train_valid_generator.n,) + INPUT_SHAPE)\n",
    "y_train = np.zeros((train_valid_generator.n, 120))\n",
    "for i in tqdm(range(len(train_valid_generator)), ncols=100):\n",
    "    temp_x, temp_y = train_valid_generator[i]\n",
    "    start_index = i*train_valid_generator.batch_size\n",
    "    X_train[start_index:start_index + temp_x.shape[0]] = temp_x\n",
    "    y_train[start_index:start_index + temp_x.shape[0]] = temp_y\n"
   ]
  },
  {
   "cell_type": "markdown",
   "metadata": {},
   "source": [
    "# Model creation function"
   ]
  },
  {
   "cell_type": "code",
   "execution_count": 42,
   "metadata": {},
   "outputs": [],
   "source": [
    "def create_simple_model(num_classes, input_shape):\n",
    "    inputs = Input(input_shape)\n",
    "    x = inputs\n",
    "    x = Dropout(0.5)(x)\n",
    "    x = Dense(num_classes, activation='softmax')(x)\n",
    "    return Model(inputs, x)"
   ]
  },
  {
   "cell_type": "markdown",
   "metadata": {},
   "source": [
    "# Use vgg16"
   ]
  },
  {
   "cell_type": "code",
   "execution_count": 43,
   "metadata": {},
   "outputs": [],
   "source": [
    "vgg_features_extractor = FeaturesExtractor(INPUT_SHAPE, vgg16.VGG16, vgg16.preprocess_input)"
   ]
  },
  {
   "cell_type": "code",
   "execution_count": 44,
   "metadata": {},
   "outputs": [],
   "source": [
    "# Calculate vgg features\n",
    "vgg_features = vgg_features_extractor.predict(X_train)\n",
    "vgg_features.shape"
   ]
  },
  {
   "cell_type": "code",
   "execution_count": 46,
   "metadata": {},
   "outputs": [
    {
     "data": {
      "text/plain": [
       "(10222, 224, 224, 3)"
      ]
     },
     "execution_count": 46,
     "metadata": {},
     "output_type": "execute_result"
    }
   ],
   "source": [
    "vgg_features.shape\n",
    "X_train.shape"
   ]
  },
  {
   "cell_type": "code",
   "execution_count": 47,
   "metadata": {},
   "outputs": [
    {
     "name": "stdout",
     "output_type": "stream",
     "text": [
      "_________________________________________________________________\n",
      "Layer (type)                 Output Shape              Param #   \n",
      "=================================================================\n",
      "input_9 (InputLayer)         (None, 512)               0         \n",
      "_________________________________________________________________\n",
      "dropout_3 (Dropout)          (None, 512)               0         \n",
      "_________________________________________________________________\n",
      "dense_3 (Dense)              (None, 120)               61560     \n",
      "=================================================================\n",
      "Total params: 61,560\n",
      "Trainable params: 61,560\n",
      "Non-trainable params: 0\n",
      "_________________________________________________________________\n"
     ]
    }
   ],
   "source": [
    "vgg_based_model = create_simple_model(num_classes, vgg_features_extractor.output.get_shape().as_list()[1:])\n",
    "vgg_based_model.compile(optimizer='adam', loss='categorical_crossentropy', metrics=['accuracy'])\n",
    "\n",
    "filepath= MODELS_DIR + \"model-weights-{epoch:02d}-{val_acc:.2f}.hdf5\"\n",
    "checkpoint = ModelCheckpoint(filepath, monitor='val_acc', verbose=1, save_best_only=True, mode='max')\n",
    "\n",
    "callbacks = [TensorBoard( LOGS_DIR +'vgg-{0}'.format(datetime.now().isoformat().replace(':','-').split('.')[0])),\n",
    "            checkpoint\n",
    "            ]\n",
    "    \n",
    "vgg_based_model.summary()"
   ]
  },
  {
   "cell_type": "code",
   "execution_count": 48,
   "metadata": {},
   "outputs": [
    {
     "name": "stdout",
     "output_type": "stream",
     "text": [
      "Train on 9199 samples, validate on 1023 samples\n",
      "Epoch 1/50\n",
      "9199/9199 [==============================] - 0s 54us/step - loss: 15.0890 - acc: 0.0123 - val_loss: 13.5395 - val_acc: 0.0293\n",
      "\n",
      "Epoch 00001: val_acc improved from -inf to 0.02933, saving model to ./data/models/2/model-weights-01-0.03.hdf5\n",
      "Epoch 2/50\n",
      "9199/9199 [==============================] - 0s 6us/step - loss: 14.4918 - acc: 0.0272 - val_loss: 12.7558 - val_acc: 0.0577\n",
      "\n",
      "Epoch 00002: val_acc improved from 0.02933 to 0.05767, saving model to ./data/models/2/model-weights-02-0.06.hdf5\n",
      "Epoch 3/50\n",
      "9199/9199 [==============================] - 0s 7us/step - loss: 14.1300 - acc: 0.0329 - val_loss: 11.8983 - val_acc: 0.0811\n",
      "\n",
      "Epoch 00003: val_acc improved from 0.05767 to 0.08113, saving model to ./data/models/2/model-weights-03-0.08.hdf5\n",
      "Epoch 4/50\n",
      "9199/9199 [==============================] - 0s 7us/step - loss: 13.5351 - acc: 0.0489 - val_loss: 10.6962 - val_acc: 0.1193\n",
      "\n",
      "Epoch 00004: val_acc improved from 0.08113 to 0.11926, saving model to ./data/models/2/model-weights-04-0.12.hdf5\n",
      "Epoch 5/50\n",
      "9199/9199 [==============================] - 0s 7us/step - loss: 12.8569 - acc: 0.0723 - val_loss: 9.8645 - val_acc: 0.1564\n",
      "\n",
      "Epoch 00005: val_acc improved from 0.11926 to 0.15640, saving model to ./data/models/2/model-weights-05-0.16.hdf5\n",
      "Epoch 6/50\n",
      "9199/9199 [==============================] - 0s 6us/step - loss: 12.2511 - acc: 0.0861 - val_loss: 9.0796 - val_acc: 0.1926\n",
      "\n",
      "Epoch 00006: val_acc improved from 0.15640 to 0.19257, saving model to ./data/models/2/model-weights-06-0.19.hdf5\n",
      "Epoch 7/50\n",
      "9199/9199 [==============================] - 0s 7us/step - loss: 11.5956 - acc: 0.1111 - val_loss: 8.2094 - val_acc: 0.2219\n",
      "\n",
      "Epoch 00007: val_acc improved from 0.19257 to 0.22190, saving model to ./data/models/2/model-weights-07-0.22.hdf5\n",
      "Epoch 8/50\n",
      "9199/9199 [==============================] - 0s 7us/step - loss: 10.9164 - acc: 0.1411 - val_loss: 7.6057 - val_acc: 0.2805\n",
      "\n",
      "Epoch 00008: val_acc improved from 0.22190 to 0.28055, saving model to ./data/models/2/model-weights-08-0.28.hdf5\n",
      "Epoch 9/50\n",
      "9199/9199 [==============================] - 0s 7us/step - loss: 10.1873 - acc: 0.1723 - val_loss: 6.8153 - val_acc: 0.3177\n",
      "\n",
      "Epoch 00009: val_acc improved from 0.28055 to 0.31769, saving model to ./data/models/2/model-weights-09-0.32.hdf5\n",
      "Epoch 10/50\n",
      "9199/9199 [==============================] - 0s 7us/step - loss: 9.6201 - acc: 0.1969 - val_loss: 6.2425 - val_acc: 0.3529\n",
      "\n",
      "Epoch 00010: val_acc improved from 0.31769 to 0.35288, saving model to ./data/models/2/model-weights-10-0.35.hdf5\n",
      "Epoch 11/50\n",
      "9199/9199 [==============================] - 0s 8us/step - loss: 8.9394 - acc: 0.2295 - val_loss: 5.7572 - val_acc: 0.3744\n",
      "\n",
      "Epoch 00011: val_acc improved from 0.35288 to 0.37439, saving model to ./data/models/2/model-weights-11-0.37.hdf5\n",
      "Epoch 12/50\n",
      "9199/9199 [==============================] - 0s 7us/step - loss: 8.4613 - acc: 0.2467 - val_loss: 5.2003 - val_acc: 0.4301\n",
      "\n",
      "Epoch 00012: val_acc improved from 0.37439 to 0.43011, saving model to ./data/models/2/model-weights-12-0.43.hdf5\n",
      "Epoch 13/50\n",
      "9199/9199 [==============================] - 0s 7us/step - loss: 7.7990 - acc: 0.2821 - val_loss: 4.7874 - val_acc: 0.4506\n",
      "\n",
      "Epoch 00013: val_acc improved from 0.43011 to 0.45064, saving model to ./data/models/2/model-weights-13-0.45.hdf5\n",
      "Epoch 14/50\n",
      "9199/9199 [==============================] - 0s 7us/step - loss: 7.3102 - acc: 0.3100 - val_loss: 4.4168 - val_acc: 0.4809\n",
      "\n",
      "Epoch 00014: val_acc improved from 0.45064 to 0.48094, saving model to ./data/models/2/model-weights-14-0.48.hdf5\n",
      "Epoch 15/50\n",
      "9199/9199 [==============================] - 0s 7us/step - loss: 6.8569 - acc: 0.3320 - val_loss: 4.0823 - val_acc: 0.5044\n",
      "\n",
      "Epoch 00015: val_acc improved from 0.48094 to 0.50440, saving model to ./data/models/2/model-weights-15-0.50.hdf5\n",
      "Epoch 16/50\n",
      "9199/9199 [==============================] - 0s 7us/step - loss: 6.4319 - acc: 0.3611 - val_loss: 3.8700 - val_acc: 0.5396\n",
      "\n",
      "Epoch 00016: val_acc improved from 0.50440 to 0.53959, saving model to ./data/models/2/model-weights-16-0.54.hdf5\n",
      "Epoch 17/50\n",
      "9199/9199 [==============================] - 0s 7us/step - loss: 6.1475 - acc: 0.3724 - val_loss: 3.7081 - val_acc: 0.5503\n",
      "\n",
      "Epoch 00017: val_acc improved from 0.53959 to 0.55034, saving model to ./data/models/2/model-weights-17-0.55.hdf5\n",
      "Epoch 18/50\n",
      "9199/9199 [==============================] - 0s 7us/step - loss: 5.7177 - acc: 0.3945 - val_loss: 3.5896 - val_acc: 0.5621\n",
      "\n",
      "Epoch 00018: val_acc improved from 0.55034 to 0.56207, saving model to ./data/models/2/model-weights-18-0.56.hdf5\n",
      "Epoch 19/50\n",
      "9199/9199 [==============================] - 0s 6us/step - loss: 5.4970 - acc: 0.4125 - val_loss: 3.4502 - val_acc: 0.5630\n",
      "\n",
      "Epoch 00019: val_acc improved from 0.56207 to 0.56305, saving model to ./data/models/2/model-weights-19-0.56.hdf5\n",
      "Epoch 20/50\n",
      "9199/9199 [==============================] - 0s 6us/step - loss: 5.2063 - acc: 0.4264 - val_loss: 3.2586 - val_acc: 0.5767\n",
      "\n",
      "Epoch 00020: val_acc improved from 0.56305 to 0.57674, saving model to ./data/models/2/model-weights-20-0.58.hdf5\n",
      "Epoch 21/50\n",
      "9199/9199 [==============================] - 0s 7us/step - loss: 4.9207 - acc: 0.4504 - val_loss: 3.1270 - val_acc: 0.5953\n",
      "\n",
      "Epoch 00021: val_acc improved from 0.57674 to 0.59531, saving model to ./data/models/2/model-weights-21-0.60.hdf5\n",
      "Epoch 22/50\n",
      "9199/9199 [==============================] - 0s 7us/step - loss: 4.7174 - acc: 0.4636 - val_loss: 3.0490 - val_acc: 0.5973\n",
      "\n",
      "Epoch 00022: val_acc improved from 0.59531 to 0.59726, saving model to ./data/models/2/model-weights-22-0.60.hdf5\n",
      "Epoch 23/50\n",
      "9199/9199 [==============================] - 0s 8us/step - loss: 4.4563 - acc: 0.4818 - val_loss: 2.9613 - val_acc: 0.6031\n",
      "\n",
      "Epoch 00023: val_acc improved from 0.59726 to 0.60313, saving model to ./data/models/2/model-weights-23-0.60.hdf5\n",
      "Epoch 24/50\n",
      "9199/9199 [==============================] - 0s 7us/step - loss: 4.3161 - acc: 0.4881 - val_loss: 2.8585 - val_acc: 0.6129\n",
      "\n",
      "Epoch 00024: val_acc improved from 0.60313 to 0.61290, saving model to ./data/models/2/model-weights-24-0.61.hdf5\n",
      "Epoch 25/50\n",
      "9199/9199 [==============================] - 0s 6us/step - loss: 4.1203 - acc: 0.4992 - val_loss: 2.8511 - val_acc: 0.6207\n",
      "\n",
      "Epoch 00025: val_acc improved from 0.61290 to 0.62072, saving model to ./data/models/2/model-weights-25-0.62.hdf5\n",
      "Epoch 26/50\n",
      "9199/9199 [==============================] - 0s 7us/step - loss: 4.0035 - acc: 0.5093 - val_loss: 2.8054 - val_acc: 0.6158\n",
      "\n",
      "Epoch 00026: val_acc did not improve from 0.62072\n",
      "Epoch 27/50\n",
      "9199/9199 [==============================] - 0s 7us/step - loss: 3.8677 - acc: 0.5235 - val_loss: 2.7823 - val_acc: 0.6227\n",
      "\n",
      "Epoch 00027: val_acc improved from 0.62072 to 0.62268, saving model to ./data/models/2/model-weights-27-0.62.hdf5\n",
      "Epoch 28/50\n",
      "9199/9199 [==============================] - 0s 7us/step - loss: 3.6979 - acc: 0.5364 - val_loss: 2.7570 - val_acc: 0.6344\n",
      "\n",
      "Epoch 00028: val_acc improved from 0.62268 to 0.63441, saving model to ./data/models/2/model-weights-28-0.63.hdf5\n",
      "Epoch 29/50\n",
      "9199/9199 [==============================] - 0s 7us/step - loss: 3.5891 - acc: 0.5420 - val_loss: 2.7073 - val_acc: 0.6285\n",
      "\n",
      "Epoch 00029: val_acc did not improve from 0.63441\n",
      "Epoch 30/50\n",
      "9199/9199 [==============================] - 0s 7us/step - loss: 3.4738 - acc: 0.5521 - val_loss: 2.6930 - val_acc: 0.6197\n",
      "\n",
      "Epoch 00030: val_acc did not improve from 0.63441\n",
      "Epoch 31/50\n",
      "9199/9199 [==============================] - 0s 7us/step - loss: 3.4171 - acc: 0.5532 - val_loss: 2.6258 - val_acc: 0.6354\n",
      "\n",
      "Epoch 00031: val_acc improved from 0.63441 to 0.63539, saving model to ./data/models/2/model-weights-31-0.64.hdf5\n",
      "Epoch 32/50\n",
      "9199/9199 [==============================] - 0s 7us/step - loss: 3.3028 - acc: 0.5617 - val_loss: 2.6487 - val_acc: 0.6373\n",
      "\n",
      "Epoch 00032: val_acc improved from 0.63539 to 0.63734, saving model to ./data/models/2/model-weights-32-0.64.hdf5\n",
      "Epoch 33/50\n",
      "9199/9199 [==============================] - 0s 6us/step - loss: 3.1870 - acc: 0.5720 - val_loss: 2.5174 - val_acc: 0.6442\n",
      "\n",
      "Epoch 00033: val_acc improved from 0.63734 to 0.64418, saving model to ./data/models/2/model-weights-33-0.64.hdf5\n",
      "Epoch 34/50\n"
     ]
    },
    {
     "name": "stdout",
     "output_type": "stream",
     "text": [
      "9199/9199 [==============================] - 0s 7us/step - loss: 3.1541 - acc: 0.5740 - val_loss: 2.5652 - val_acc: 0.6334\n",
      "\n",
      "Epoch 00034: val_acc did not improve from 0.64418\n",
      "Epoch 35/50\n",
      "9199/9199 [==============================] - 0s 7us/step - loss: 3.0515 - acc: 0.5841 - val_loss: 2.5067 - val_acc: 0.6393\n",
      "\n",
      "Epoch 00035: val_acc did not improve from 0.64418\n",
      "Epoch 36/50\n",
      "9199/9199 [==============================] - 0s 8us/step - loss: 2.9062 - acc: 0.5914 - val_loss: 2.4827 - val_acc: 0.6403\n",
      "\n",
      "Epoch 00036: val_acc did not improve from 0.64418\n",
      "Epoch 37/50\n",
      "9199/9199 [==============================] - 0s 6us/step - loss: 2.8551 - acc: 0.6006 - val_loss: 2.4221 - val_acc: 0.6354\n",
      "\n",
      "Epoch 00037: val_acc did not improve from 0.64418\n",
      "Epoch 38/50\n",
      "9199/9199 [==============================] - 0s 7us/step - loss: 2.7730 - acc: 0.6009 - val_loss: 2.4204 - val_acc: 0.6520\n",
      "\n",
      "Epoch 00038: val_acc improved from 0.64418 to 0.65200, saving model to ./data/models/2/model-weights-38-0.65.hdf5\n",
      "Epoch 39/50\n",
      "9199/9199 [==============================] - 0s 7us/step - loss: 2.7009 - acc: 0.6046 - val_loss: 2.3961 - val_acc: 0.6442\n",
      "\n",
      "Epoch 00039: val_acc did not improve from 0.65200\n",
      "Epoch 40/50\n",
      "9199/9199 [==============================] - 0s 8us/step - loss: 2.6727 - acc: 0.6113 - val_loss: 2.3875 - val_acc: 0.6354\n",
      "\n",
      "Epoch 00040: val_acc did not improve from 0.65200\n",
      "Epoch 41/50\n",
      "9199/9199 [==============================] - 0s 6us/step - loss: 2.5357 - acc: 0.6279 - val_loss: 2.2611 - val_acc: 0.6588\n",
      "\n",
      "Epoch 00041: val_acc improved from 0.65200 to 0.65885, saving model to ./data/models/2/model-weights-41-0.66.hdf5\n",
      "Epoch 42/50\n",
      "9199/9199 [==============================] - 0s 7us/step - loss: 2.4558 - acc: 0.6233 - val_loss: 2.2536 - val_acc: 0.6608\n",
      "\n",
      "Epoch 00042: val_acc improved from 0.65885 to 0.66080, saving model to ./data/models/2/model-weights-42-0.66.hdf5\n",
      "Epoch 43/50\n",
      "9199/9199 [==============================] - 0s 7us/step - loss: 2.3845 - acc: 0.6304 - val_loss: 2.1466 - val_acc: 0.6530\n",
      "\n",
      "Epoch 00043: val_acc did not improve from 0.66080\n",
      "Epoch 44/50\n",
      "9199/9199 [==============================] - 0s 7us/step - loss: 2.3227 - acc: 0.6293 - val_loss: 2.1671 - val_acc: 0.6500\n",
      "\n",
      "Epoch 00044: val_acc did not improve from 0.66080\n",
      "Epoch 45/50\n",
      "9199/9199 [==============================] - 0s 7us/step - loss: 2.2245 - acc: 0.6429 - val_loss: 2.1096 - val_acc: 0.6588\n",
      "\n",
      "Epoch 00045: val_acc did not improve from 0.66080\n",
      "Epoch 46/50\n",
      "9199/9199 [==============================] - 0s 7us/step - loss: 2.2260 - acc: 0.6416 - val_loss: 2.0834 - val_acc: 0.6618\n",
      "\n",
      "Epoch 00046: val_acc improved from 0.66080 to 0.66178, saving model to ./data/models/2/model-weights-46-0.66.hdf5\n",
      "Epoch 47/50\n",
      "9199/9199 [==============================] - 0s 7us/step - loss: 2.1117 - acc: 0.6507 - val_loss: 2.0469 - val_acc: 0.6608\n",
      "\n",
      "Epoch 00047: val_acc did not improve from 0.66178\n",
      "Epoch 48/50\n",
      "9199/9199 [==============================] - 0s 7us/step - loss: 2.1305 - acc: 0.6470 - val_loss: 2.0604 - val_acc: 0.6579\n",
      "\n",
      "Epoch 00048: val_acc did not improve from 0.66178\n",
      "Epoch 49/50\n",
      "9199/9199 [==============================] - 0s 7us/step - loss: 2.0523 - acc: 0.6534 - val_loss: 2.0226 - val_acc: 0.6618\n",
      "\n",
      "Epoch 00049: val_acc did not improve from 0.66178\n",
      "Epoch 50/50\n",
      "9199/9199 [==============================] - 0s 9us/step - loss: 2.0364 - acc: 0.6565 - val_loss: 2.0082 - val_acc: 0.6598\n",
      "\n",
      "Epoch 00050: val_acc did not improve from 0.66178\n"
     ]
    },
    {
     "data": {
      "text/plain": [
       "<keras.callbacks.History at 0x7f89fdd04f98>"
      ]
     },
     "execution_count": 48,
     "metadata": {},
     "output_type": "execute_result"
    }
   ],
   "source": [
    "vgg_based_model.fit(vgg_features, y_train, batch_size=BATCH_SIZE, epochs=EPOCHS, callbacks=callbacks, validation_split=0.1)"
   ]
  },
  {
   "cell_type": "markdown",
   "metadata": {},
   "source": [
    "# Use resnet50"
   ]
  },
  {
   "cell_type": "code",
   "execution_count": 49,
   "metadata": {},
   "outputs": [
    {
     "name": "stderr",
     "output_type": "stream",
     "text": [
      "/home/trule/miniconda3/lib/python3.6/site-packages/keras_applications/resnet50.py:265: UserWarning: The output shape of `ResNet50(include_top=False)` has been changed since Keras 2.2.0.\n",
      "  warnings.warn('The output shape of `ResNet50(include_top=False)` '\n"
     ]
    }
   ],
   "source": [
    "resnet50_features_extractor = FeaturesExtractor(INPUT_SHAPE, resnet50.ResNet50, resnet50.preprocess_input)"
   ]
  },
  {
   "cell_type": "code",
   "execution_count": 50,
   "metadata": {},
   "outputs": [],
   "source": [
    "resnet50_features = resnet50_features_extractor.predict(X_train)"
   ]
  },
  {
   "cell_type": "code",
   "execution_count": 51,
   "metadata": {},
   "outputs": [
    {
     "data": {
      "text/plain": [
       "(10222, 2048)"
      ]
     },
     "execution_count": 51,
     "metadata": {},
     "output_type": "execute_result"
    }
   ],
   "source": [
    "resnet50_features.shape"
   ]
  },
  {
   "cell_type": "code",
   "execution_count": 52,
   "metadata": {},
   "outputs": [],
   "source": [
    "resnet50_based_model = create_simple_model(num_classes, resnet50_features_extractor.output.get_shape().as_list()[1:])\n",
    "resnet50_based_model.compile(optimizer='adam', loss='categorical_crossentropy', metrics=['accuracy'])\n",
    "callbacks = [TensorBoard(LOGS_DIR +'resnet50-{0}'.format(datetime.now().isoformat().replace(':','-').split('.')[0]))]"
   ]
  },
  {
   "cell_type": "code",
   "execution_count": 53,
   "metadata": {},
   "outputs": [
    {
     "name": "stdout",
     "output_type": "stream",
     "text": [
      "Train on 9199 samples, validate on 1023 samples\n",
      "Epoch 1/50\n",
      "9199/9199 [==============================] - 1s 82us/step - loss: 5.1951 - acc: 0.0401 - val_loss: 3.4898 - val_acc: 0.2199\n",
      "Epoch 2/50\n",
      "9199/9199 [==============================] - 0s 11us/step - loss: 3.3658 - acc: 0.2229 - val_loss: 2.1893 - val_acc: 0.5357\n",
      "Epoch 3/50\n",
      "9199/9199 [==============================] - 0s 12us/step - loss: 2.2623 - acc: 0.4270 - val_loss: 1.5378 - val_acc: 0.6481\n",
      "Epoch 4/50\n",
      "9199/9199 [==============================] - 0s 13us/step - loss: 1.6808 - acc: 0.5456 - val_loss: 1.2274 - val_acc: 0.6960\n",
      "Epoch 5/50\n",
      "9199/9199 [==============================] - 0s 12us/step - loss: 1.3597 - acc: 0.6229 - val_loss: 1.0673 - val_acc: 0.7107\n",
      "Epoch 6/50\n",
      "9199/9199 [==============================] - 0s 11us/step - loss: 1.1369 - acc: 0.6826 - val_loss: 0.9798 - val_acc: 0.7361\n",
      "Epoch 7/50\n",
      "9199/9199 [==============================] - 0s 11us/step - loss: 1.0001 - acc: 0.7174 - val_loss: 0.9157 - val_acc: 0.7419\n",
      "Epoch 8/50\n",
      "9199/9199 [==============================] - 0s 11us/step - loss: 0.8929 - acc: 0.7383 - val_loss: 0.8813 - val_acc: 0.7527\n",
      "Epoch 9/50\n",
      "9199/9199 [==============================] - 0s 12us/step - loss: 0.8186 - acc: 0.7663 - val_loss: 0.8424 - val_acc: 0.7615\n",
      "Epoch 10/50\n",
      "9199/9199 [==============================] - 0s 12us/step - loss: 0.7709 - acc: 0.7773 - val_loss: 0.8205 - val_acc: 0.7566\n",
      "Epoch 11/50\n",
      "9199/9199 [==============================] - 0s 11us/step - loss: 0.7100 - acc: 0.7927 - val_loss: 0.8096 - val_acc: 0.7634\n",
      "Epoch 12/50\n",
      "9199/9199 [==============================] - 0s 12us/step - loss: 0.6614 - acc: 0.8057 - val_loss: 0.7889 - val_acc: 0.7634\n",
      "Epoch 13/50\n",
      "9199/9199 [==============================] - 0s 11us/step - loss: 0.6199 - acc: 0.8179 - val_loss: 0.7856 - val_acc: 0.7742\n",
      "Epoch 14/50\n",
      "9199/9199 [==============================] - 0s 13us/step - loss: 0.5765 - acc: 0.8353 - val_loss: 0.7679 - val_acc: 0.7722\n",
      "Epoch 15/50\n",
      "9199/9199 [==============================] - 0s 12us/step - loss: 0.5329 - acc: 0.8480 - val_loss: 0.7687 - val_acc: 0.7742\n",
      "Epoch 16/50\n",
      "9199/9199 [==============================] - 0s 11us/step - loss: 0.5228 - acc: 0.8512 - val_loss: 0.7624 - val_acc: 0.7742\n",
      "Epoch 17/50\n",
      "9199/9199 [==============================] - 0s 12us/step - loss: 0.4820 - acc: 0.8675 - val_loss: 0.7529 - val_acc: 0.7761\n",
      "Epoch 18/50\n",
      "9199/9199 [==============================] - 0s 11us/step - loss: 0.4777 - acc: 0.8618 - val_loss: 0.7558 - val_acc: 0.7830\n",
      "Epoch 19/50\n",
      "9199/9199 [==============================] - 0s 12us/step - loss: 0.4446 - acc: 0.8754 - val_loss: 0.7480 - val_acc: 0.7703\n",
      "Epoch 20/50\n",
      "9199/9199 [==============================] - 0s 11us/step - loss: 0.4206 - acc: 0.8831 - val_loss: 0.7486 - val_acc: 0.7722\n",
      "Epoch 21/50\n",
      "9199/9199 [==============================] - 0s 12us/step - loss: 0.4061 - acc: 0.8848 - val_loss: 0.7492 - val_acc: 0.7713\n",
      "Epoch 22/50\n",
      "9199/9199 [==============================] - 0s 11us/step - loss: 0.3860 - acc: 0.8974 - val_loss: 0.7430 - val_acc: 0.7771\n",
      "Epoch 23/50\n",
      "9199/9199 [==============================] - 0s 13us/step - loss: 0.3683 - acc: 0.8989 - val_loss: 0.7415 - val_acc: 0.7722\n",
      "Epoch 24/50\n",
      "9199/9199 [==============================] - 0s 12us/step - loss: 0.3569 - acc: 0.9049 - val_loss: 0.7461 - val_acc: 0.7810\n",
      "Epoch 25/50\n",
      "9199/9199 [==============================] - 0s 11us/step - loss: 0.3452 - acc: 0.9094 - val_loss: 0.7395 - val_acc: 0.7722\n",
      "Epoch 26/50\n",
      "9199/9199 [==============================] - 0s 12us/step - loss: 0.3384 - acc: 0.9089 - val_loss: 0.7471 - val_acc: 0.7830\n",
      "Epoch 27/50\n",
      "9199/9199 [==============================] - 0s 12us/step - loss: 0.3206 - acc: 0.9130 - val_loss: 0.7335 - val_acc: 0.7742\n",
      "Epoch 28/50\n",
      "9199/9199 [==============================] - 0s 11us/step - loss: 0.3134 - acc: 0.9142 - val_loss: 0.7381 - val_acc: 0.7752\n",
      "Epoch 29/50\n",
      "9199/9199 [==============================] - 0s 12us/step - loss: 0.3025 - acc: 0.9204 - val_loss: 0.7346 - val_acc: 0.7801\n",
      "Epoch 30/50\n",
      "9199/9199 [==============================] - 0s 12us/step - loss: 0.2871 - acc: 0.9236 - val_loss: 0.7376 - val_acc: 0.7771\n",
      "Epoch 31/50\n",
      "9199/9199 [==============================] - 0s 11us/step - loss: 0.2722 - acc: 0.9261 - val_loss: 0.7369 - val_acc: 0.7752\n",
      "Epoch 32/50\n",
      "9199/9199 [==============================] - 0s 12us/step - loss: 0.2630 - acc: 0.9326 - val_loss: 0.7318 - val_acc: 0.7830\n",
      "Epoch 33/50\n",
      "9199/9199 [==============================] - 0s 11us/step - loss: 0.2571 - acc: 0.9384 - val_loss: 0.7405 - val_acc: 0.7742\n",
      "Epoch 34/50\n",
      "9199/9199 [==============================] - 0s 12us/step - loss: 0.2551 - acc: 0.9377 - val_loss: 0.7352 - val_acc: 0.7849\n",
      "Epoch 35/50\n",
      "9199/9199 [==============================] - 0s 12us/step - loss: 0.2477 - acc: 0.9373 - val_loss: 0.7426 - val_acc: 0.7703\n",
      "Epoch 36/50\n",
      "9199/9199 [==============================] - 0s 11us/step - loss: 0.2350 - acc: 0.9421 - val_loss: 0.7406 - val_acc: 0.7859\n",
      "Epoch 37/50\n",
      "9199/9199 [==============================] - 0s 12us/step - loss: 0.2224 - acc: 0.9490 - val_loss: 0.7393 - val_acc: 0.7703\n",
      "Epoch 38/50\n",
      "9199/9199 [==============================] - 0s 12us/step - loss: 0.2189 - acc: 0.9497 - val_loss: 0.7356 - val_acc: 0.7752\n",
      "Epoch 39/50\n",
      "9199/9199 [==============================] - 0s 11us/step - loss: 0.2179 - acc: 0.9498 - val_loss: 0.7375 - val_acc: 0.7722\n",
      "Epoch 40/50\n",
      "9199/9199 [==============================] - 0s 12us/step - loss: 0.2178 - acc: 0.9476 - val_loss: 0.7448 - val_acc: 0.7742\n",
      "Epoch 41/50\n",
      "9199/9199 [==============================] - 0s 11us/step - loss: 0.2147 - acc: 0.9461 - val_loss: 0.7372 - val_acc: 0.7722\n",
      "Epoch 42/50\n",
      "9199/9199 [==============================] - 0s 13us/step - loss: 0.2063 - acc: 0.9501 - val_loss: 0.7485 - val_acc: 0.7654\n",
      "Epoch 43/50\n",
      "9199/9199 [==============================] - 0s 12us/step - loss: 0.2036 - acc: 0.9502 - val_loss: 0.7489 - val_acc: 0.7713\n",
      "Epoch 44/50\n",
      "9199/9199 [==============================] - 0s 12us/step - loss: 0.1883 - acc: 0.9553 - val_loss: 0.7387 - val_acc: 0.7722\n",
      "Epoch 45/50\n",
      "9199/9199 [==============================] - 0s 12us/step - loss: 0.1861 - acc: 0.9561 - val_loss: 0.7544 - val_acc: 0.7644\n",
      "Epoch 46/50\n",
      "9199/9199 [==============================] - 0s 12us/step - loss: 0.1855 - acc: 0.9567 - val_loss: 0.7474 - val_acc: 0.7752\n",
      "Epoch 47/50\n",
      "9199/9199 [==============================] - 0s 12us/step - loss: 0.1799 - acc: 0.9593 - val_loss: 0.7499 - val_acc: 0.7732\n",
      "Epoch 48/50\n",
      "9199/9199 [==============================] - 0s 11us/step - loss: 0.1775 - acc: 0.9596 - val_loss: 0.7602 - val_acc: 0.7742\n",
      "Epoch 49/50\n",
      "9199/9199 [==============================] - 0s 12us/step - loss: 0.1731 - acc: 0.9620 - val_loss: 0.7598 - val_acc: 0.7703\n",
      "Epoch 50/50\n",
      "9199/9199 [==============================] - 0s 12us/step - loss: 0.1690 - acc: 0.9608 - val_loss: 0.7456 - val_acc: 0.7752\n"
     ]
    },
    {
     "data": {
      "text/plain": [
       "<keras.callbacks.History at 0x7f90231c5ba8>"
      ]
     },
     "execution_count": 53,
     "metadata": {},
     "output_type": "execute_result"
    }
   ],
   "source": [
    "resnet50_based_model.fit(resnet50_features, y_train, batch_size=BATCH_SIZE, epochs=EPOCHS,  callbacks=callbacks, validation_split=0.1)"
   ]
  },
  {
   "cell_type": "markdown",
   "metadata": {},
   "source": [
    "# Confusion matrix (VGG)"
   ]
  },
  {
   "cell_type": "code",
   "execution_count": 54,
   "metadata": {},
   "outputs": [],
   "source": [
    "index2labels = {}\n",
    "for k, v in train_valid_generator.class_indices.items():\n",
    "    index2labels[v] = k"
   ]
  },
  {
   "cell_type": "code",
   "execution_count": 55,
   "metadata": {
    "scrolled": true
   },
   "outputs": [
    {
     "name": "stderr",
     "output_type": "stream",
     "text": [
      "100%|█████████████████████████████████████████████████████████████████| 5/5 [01:13<00:00, 14.64s/it]"
     ]
    },
    {
     "name": "stdout",
     "output_type": "stream",
     "text": [
      "8888\n",
      "[ 88.  48.  56.  54.  98.  89.  82.  94. 103.  99.]\n",
      "[ 88.  48.  56.  54.  98.   1.  82.  94. 103.  79.]\n",
      "[[  0   0   0   0   0   0   0   0   0   0]\n",
      " [  0   0   0   1   1   0   0   6   0   0]\n",
      " [  0   0  61   0   0   0   0   0   0   0]\n",
      " [  0   0   0  78   0   0   0   0   0   0]\n",
      " [  0   0   0   0  61   0   0   0   0   0]\n",
      " [  0   0   0   0   0  79   0   0   0   0]\n",
      " [  0   0   0   0   0   0  66   0   0   0]\n",
      " [  0   0   0   0   0   0   0 102   0   0]\n",
      " [  0   0   0   0   0   0   0   0 108   0]\n",
      " [  0   0   0   0   0   0   0   0   0  64]]\n"
     ]
    },
    {
     "name": "stderr",
     "output_type": "stream",
     "text": [
      "\n"
     ]
    }
   ],
   "source": [
    "preds = []\n",
    "targets = []\n",
    "for i in tqdm(range(len(train_valid_generator)), ncols=100):\n",
    "    x, y = train_valid_generator[i]\n",
    "    p = vgg_based_model.predict(vgg_features_extractor.predict(x))\n",
    "    p = np.argmax(p, axis=1)    \n",
    "    y = np.argmax(y, axis=1)\n",
    "    preds = np.concatenate((preds, p))\n",
    "    targets = np.concatenate((targets, y))\n",
    "from sklearn.metrics import confusion_matrix\n",
    "print(np.sum(targets == preds))\n",
    "print(preds[0:10])\n",
    "print(targets[0:10])\n",
    "cm = confusion_matrix(targets, preds)\n",
    "print(cm[0:10, 0:10])"
   ]
  },
  {
   "cell_type": "code",
   "execution_count": 56,
   "metadata": {},
   "outputs": [
    {
     "data": {
      "text/plain": [
       "<matplotlib.axes._subplots.AxesSubplot at 0x7f902320e748>"
      ]
     },
     "execution_count": 56,
     "metadata": {},
     "output_type": "execute_result"
    },
    {
     "data": {
      "image/png": "[encoded data removed]",
      "text/plain": [
       "<Figure size 720x720 with 2 Axes>"
      ]
     },
     "metadata": {
      "needs_background": "light"
     },
     "output_type": "display_data"
    }
   ],
   "source": [
    "import seaborn as sn\n",
    "import matplotlib.pyplot as plt\n",
    "%matplotlib inline\n",
    "df_cm = pd.DataFrame(cm)\n",
    "plt.figure(figsize = (10,10))\n",
    "sn.heatmap(df_cm, annot=False)"
   ]
  },
  {
   "cell_type": "markdown",
   "metadata": {},
   "source": [
    "# Save models and data for prediction"
   ]
  },
  {
   "cell_type": "code",
   "execution_count": 30,
   "metadata": {},
   "outputs": [],
   "source": [
    "# vgg_features_extractor.save(MODELS_DIR + 'model-weights-vgg_features_extractor.hdf5')"
   ]
  },
  {
   "cell_type": "code",
   "execution_count": 31,
   "metadata": {},
   "outputs": [],
   "source": [
    "with open(MODELS_DIR + 'model-classes.json', 'w') as f:\n",
    "    f.write(json.dumps(train_valid_generator.class_indices))"
   ]
  },
  {
   "cell_type": "code",
   "execution_count": null,
   "metadata": {},
   "outputs": [],
   "source": []
  }
 ],
 "metadata": {
  "kernelspec": {
   "display_name": "Python 3",
   "language": "python",
   "name": "python3"
  },
  "language_info": {
   "codemirror_mode": {
    "name": "ipython",
    "version": 3
   },
   "file_extension": ".py",
   "mimetype": "text/x-python",
   "name": "python",
   "nbconvert_exporter": "python",
   "pygments_lexer": "ipython3",
   "version": "3.6.8"
  }
 },
 "nbformat": 4,
 "nbformat_minor": 2
}
