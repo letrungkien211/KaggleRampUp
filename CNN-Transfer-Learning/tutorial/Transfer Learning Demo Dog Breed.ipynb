{
 "cells": [
  {
   "cell_type": "markdown",
   "metadata": {},
   "source": [
    "# Import"
   ]
  },
  {
   "cell_type": "code",
   "execution_count": 1,
   "metadata": {},
   "outputs": [
    {
     "name": "stderr",
     "output_type": "stream",
     "text": [
      "Using TensorFlow backend.\n"
     ]
    }
   ],
   "source": [
    "from keras.preprocessing.image import ImageDataGenerator\n",
    "import pandas as pd\n",
    "import os\n",
    "from keras.models import Model\n",
    "from keras.layers import Dense, Flatten, GlobalAveragePooling2D, Dropout, Input, AveragePooling2D, Lambda\n",
    "from urllib import request\n",
    "from keras.callbacks import TensorBoard, ModelCheckpoint\n",
    "import tempfile\n",
    "from keras import optimizers\n",
    "from keras.utils import Sequence\n",
    "import numpy as np\n",
    "from tqdm import tqdm\n",
    "from datetime import datetime\n",
    "from keras.applications import vgg16, resnet50\n",
    "from glob import glob\n",
    "from IPython.display import Image\n",
    "import json"
   ]
  },
  {
   "cell_type": "markdown",
   "metadata": {},
   "source": [
    "# Utils"
   ]
  },
  {
   "cell_type": "code",
   "execution_count": 2,
   "metadata": {},
   "outputs": [],
   "source": [
    "def mkdir(path):\n",
    "    directory = os.path.dirname(path)\n",
    "    if not os.path.exists(directory):\n",
    "        os.makedirs(directory)"
   ]
  },
  {
   "cell_type": "markdown",
   "metadata": {},
   "source": [
    "# Define parameters"
   ]
  },
  {
   "cell_type": "code",
   "execution_count": 3,
   "metadata": {},
   "outputs": [],
   "source": [
    "ROOT_DIR = './data/dog-breed'\n",
    "TRAIN_DIR = os.path.join(ROOT_DIR, 'train')\n",
    "TEST_DIR = os.path.join(ROOT_DIR, 'test')\n",
    "MODELS_DIR = './data/models/2/'\n",
    "LOGS_DIR = './data/logs/'\n",
    "\n",
    "EPOCHS = 50\n",
    "BATCH_SIZE = 2048\n",
    "IMAGE_SIZE = (224,224)\n",
    "INPUT_SHAPE = IMAGE_SIZE + (3,)\n",
    "\n",
    "mkdir(MODELS_DIR)"
   ]
  },
  {
   "cell_type": "markdown",
   "metadata": {},
   "source": [
    "# Fetch data (if not exist)"
   ]
  },
  {
   "cell_type": "code",
   "execution_count": 4,
   "metadata": {},
   "outputs": [],
   "source": [
    "def fetch_data():\n",
    "    if not os.path.exists(ROOT_DIR):\n",
    "        os.makedirs(ROOT_DIR)\n",
    "        zip_path = os.path.join(tempfile.gettempdir(), 'dog-breed.zip')\n",
    "        print('Start download!')\n",
    "        request.urlretrieve('https://kienle.blob.core.windows.net/public/kaggle/dog-breed.zip', zip_path)\n",
    "        print('Start unzip')\n",
    "        import zipfile\n",
    "        with zipfile.ZipFile(zip_path, 'r') as zip_ref:\n",
    "            zip_ref.extractall(ROOT_DIR)\n",
    "        with zipfile.ZipFile(os.path.join(ROOT_DIR,'test.zip'), 'r') as zip_ref:\n",
    "            zip_ref.extractall(ROOT_DIR)\n",
    "        with zipfile.ZipFile(os.path.join(ROOT_DIR,'train.zip'), 'r') as zip_ref:\n",
    "            zip_ref.extractall(ROOT_DIR)\n",
    "        os.remove(zip_path)\n",
    "        os.remove(os.path.join(ROOT_DIR,'train.zip'))\n",
    "        os.remove(os.path.join(ROOT_DIR,'test.zip'))\n",
    "        print('Done')\n",
    "fetch_data()"
   ]
  },
  {
   "cell_type": "code",
   "execution_count": 5,
   "metadata": {},
   "outputs": [
    {
     "name": "stdout",
     "output_type": "stream",
     "text": [
      "labels.csv  sample_submission.csv  test  train\r\n"
     ]
    }
   ],
   "source": [
    "# Confirm all data are ready \n",
    "# Expected output: labels.csv  sample_submission.csv  test  train\n",
    "!ls $ROOT_DIR"
   ]
  },
  {
   "cell_type": "markdown",
   "metadata": {},
   "source": [
    "# Explore dataset"
   ]
  },
  {
   "cell_type": "code",
   "execution_count": 6,
   "metadata": {},
   "outputs": [],
   "source": [
    "pd_images = pd.read_csv(os.path.join(ROOT_DIR, 'labels.csv'))"
   ]
  },
  {
   "cell_type": "code",
   "execution_count": 7,
   "metadata": {
    "scrolled": false
   },
   "outputs": [
    {
     "data": {
      "text/html": [
       "<div>\n",
       "<style scoped>\n",
       "    .dataframe tbody tr th:only-of-type {\n",
       "        vertical-align: middle;\n",
       "    }\n",
       "\n",
       "    .dataframe tbody tr th {\n",
       "        vertical-align: top;\n",
       "    }\n",
       "\n",
       "    .dataframe thead th {\n",
       "        text-align: right;\n",
       "    }\n",
       "</style>\n",
       "<table border=\"1\" class=\"dataframe\">\n",
       "  <thead>\n",
       "    <tr style=\"text-align: right;\">\n",
       "      <th></th>\n",
       "      <th>id</th>\n",
       "      <th>breed</th>\n",
       "    </tr>\n",
       "  </thead>\n",
       "  <tbody>\n",
       "    <tr>\n",
       "      <th>0</th>\n",
       "      <td>000bec180eb18c7604dcecc8fe0dba07</td>\n",
       "      <td>boston_bull</td>\n",
       "    </tr>\n",
       "    <tr>\n",
       "      <th>1</th>\n",
       "      <td>001513dfcb2ffafc82cccf4d8bbaba97</td>\n",
       "      <td>dingo</td>\n",
       "    </tr>\n",
       "    <tr>\n",
       "      <th>2</th>\n",
       "      <td>001cdf01b096e06d78e9e5112d419397</td>\n",
       "      <td>pekinese</td>\n",
       "    </tr>\n",
       "    <tr>\n",
       "      <th>3</th>\n",
       "      <td>00214f311d5d2247d5dfe4fe24b2303d</td>\n",
       "      <td>bluetick</td>\n",
       "    </tr>\n",
       "    <tr>\n",
       "      <th>4</th>\n",
       "      <td>0021f9ceb3235effd7fcde7f7538ed62</td>\n",
       "      <td>golden_retriever</td>\n",
       "    </tr>\n",
       "  </tbody>\n",
       "</table>\n",
       "</div>"
      ],
      "text/plain": [
       "                                 id             breed\n",
       "0  000bec180eb18c7604dcecc8fe0dba07       boston_bull\n",
       "1  001513dfcb2ffafc82cccf4d8bbaba97             dingo\n",
       "2  001cdf01b096e06d78e9e5112d419397          pekinese\n",
       "3  00214f311d5d2247d5dfe4fe24b2303d          bluetick\n",
       "4  0021f9ceb3235effd7fcde7f7538ed62  golden_retriever"
      ]
     },
     "execution_count": 7,
     "metadata": {},
     "output_type": "execute_result"
    }
   ],
   "source": [
    "pd_images.head()"
   ]
  },
  {
   "cell_type": "code",
   "execution_count": 8,
   "metadata": {
    "scrolled": true
   },
   "outputs": [
    {
     "name": "stdout",
     "output_type": "stream",
     "text": [
      "boston_bull\n"
     ]
    },
    {
     "data": {
      "image/jpeg": "[encoded data removed]",
      "text/plain": [
       "<IPython.core.display.Image object>"
      ]
     },
     "execution_count": 8,
     "metadata": {},
     "output_type": "execute_result"
    }
   ],
   "source": [
    "title = pd_images.breed[0]\n",
    "path = os.path.join(TRAIN_DIR, pd_images.id[0] + '.jpg')\n",
    "print(title)\n",
    "Image(filename=path)"
   ]
  },
  {
   "cell_type": "markdown",
   "metadata": {},
   "source": [
    "# Load images by ImageDataGenerator"
   ]
  },
  {
   "cell_type": "code",
   "execution_count": 9,
   "metadata": {},
   "outputs": [],
   "source": [
    "image_gen = ImageDataGenerator()"
   ]
  },
  {
   "cell_type": "code",
   "execution_count": 10,
   "metadata": {},
   "outputs": [
    {
     "name": "stdout",
     "output_type": "stream",
     "text": [
      "Found 10222 images belonging to 120 classes.\n"
     ]
    }
   ],
   "source": [
    "train_valid_generator = image_gen.flow_from_dataframe(pd_images, TRAIN_DIR, batch_size=BATCH_SIZE, x_col='id', y_col='breed', has_ext=False, target_size=IMAGE_SIZE)"
   ]
  },
  {
   "cell_type": "code",
   "execution_count": 11,
   "metadata": {},
   "outputs": [],
   "source": [
    "num_classes = len(train_valid_generator.class_indices)"
   ]
  },
  {
   "cell_type": "code",
   "execution_count": 12,
   "metadata": {},
   "outputs": [
    {
     "data": {
      "text/plain": [
       "{'boston_bull': 0,\n",
       " 'dingo': 1,\n",
       " 'pekinese': 2,\n",
       " 'bluetick': 3,\n",
       " 'golden_retriever': 4,\n",
       " 'bedlington_terrier': 5,\n",
       " 'borzoi': 6,\n",
       " 'basenji': 7,\n",
       " 'scottish_deerhound': 8,\n",
       " 'shetland_sheepdog': 9,\n",
       " 'walker_hound': 10,\n",
       " 'maltese_dog': 11,\n",
       " 'norfolk_terrier': 12,\n",
       " 'african_hunting_dog': 13,\n",
       " 'wire-haired_fox_terrier': 14,\n",
       " 'redbone': 15,\n",
       " 'lakeland_terrier': 16,\n",
       " 'boxer': 17,\n",
       " 'doberman': 18,\n",
       " 'otterhound': 19,\n",
       " 'standard_schnauzer': 20,\n",
       " 'irish_water_spaniel': 21,\n",
       " 'black-and-tan_coonhound': 22,\n",
       " 'cairn': 23,\n",
       " 'affenpinscher': 24,\n",
       " 'labrador_retriever': 25,\n",
       " 'ibizan_hound': 26,\n",
       " 'english_setter': 27,\n",
       " 'weimaraner': 28,\n",
       " 'giant_schnauzer': 29,\n",
       " 'groenendael': 30,\n",
       " 'dhole': 31,\n",
       " 'toy_poodle': 32,\n",
       " 'border_terrier': 33,\n",
       " 'tibetan_terrier': 34,\n",
       " 'norwegian_elkhound': 35,\n",
       " 'shih-tzu': 36,\n",
       " 'irish_terrier': 37,\n",
       " 'kuvasz': 38,\n",
       " 'german_shepherd': 39,\n",
       " 'greater_swiss_mountain_dog': 40,\n",
       " 'basset': 41,\n",
       " 'australian_terrier': 42,\n",
       " 'schipperke': 43,\n",
       " 'rhodesian_ridgeback': 44,\n",
       " 'irish_setter': 45,\n",
       " 'appenzeller': 46,\n",
       " 'bloodhound': 47,\n",
       " 'samoyed': 48,\n",
       " 'miniature_schnauzer': 49,\n",
       " 'brittany_spaniel': 50,\n",
       " 'kelpie': 51,\n",
       " 'papillon': 52,\n",
       " 'border_collie': 53,\n",
       " 'entlebucher': 54,\n",
       " 'collie': 55,\n",
       " 'malamute': 56,\n",
       " 'welsh_springer_spaniel': 57,\n",
       " 'chihuahua': 58,\n",
       " 'saluki': 59,\n",
       " 'pug': 60,\n",
       " 'malinois': 61,\n",
       " 'komondor': 62,\n",
       " 'airedale': 63,\n",
       " 'leonberg': 64,\n",
       " 'mexican_hairless': 65,\n",
       " 'bull_mastiff': 66,\n",
       " 'bernese_mountain_dog': 67,\n",
       " 'american_staffordshire_terrier': 68,\n",
       " 'lhasa': 69,\n",
       " 'cardigan': 70,\n",
       " 'italian_greyhound': 71,\n",
       " 'clumber': 72,\n",
       " 'scotch_terrier': 73,\n",
       " 'afghan_hound': 74,\n",
       " 'old_english_sheepdog': 75,\n",
       " 'saint_bernard': 76,\n",
       " 'miniature_pinscher': 77,\n",
       " 'eskimo_dog': 78,\n",
       " 'irish_wolfhound': 79,\n",
       " 'brabancon_griffon': 80,\n",
       " 'toy_terrier': 81,\n",
       " 'chow': 82,\n",
       " 'flat-coated_retriever': 83,\n",
       " 'norwich_terrier': 84,\n",
       " 'soft-coated_wheaten_terrier': 85,\n",
       " 'staffordshire_bullterrier': 86,\n",
       " 'english_foxhound': 87,\n",
       " 'gordon_setter': 88,\n",
       " 'siberian_husky': 89,\n",
       " 'newfoundland': 90,\n",
       " 'briard': 91,\n",
       " 'chesapeake_bay_retriever': 92,\n",
       " 'dandie_dinmont': 93,\n",
       " 'great_pyrenees': 94,\n",
       " 'beagle': 95,\n",
       " 'vizsla': 96,\n",
       " 'west_highland_white_terrier': 97,\n",
       " 'kerry_blue_terrier': 98,\n",
       " 'whippet': 99,\n",
       " 'sealyham_terrier': 100,\n",
       " 'standard_poodle': 101,\n",
       " 'keeshond': 102,\n",
       " 'japanese_spaniel': 103,\n",
       " 'miniature_poodle': 104,\n",
       " 'pomeranian': 105,\n",
       " 'curly-coated_retriever': 106,\n",
       " 'yorkshire_terrier': 107,\n",
       " 'pembroke': 108,\n",
       " 'great_dane': 109,\n",
       " 'blenheim_spaniel': 110,\n",
       " 'silky_terrier': 111,\n",
       " 'sussex_spaniel': 112,\n",
       " 'german_short-haired_pointer': 113,\n",
       " 'french_bulldog': 114,\n",
       " 'bouvier_des_flandres': 115,\n",
       " 'tibetan_mastiff': 116,\n",
       " 'english_springer': 117,\n",
       " 'cocker_spaniel': 118,\n",
       " 'rottweiler': 119}"
      ]
     },
     "execution_count": 12,
     "metadata": {},
     "output_type": "execute_result"
    }
   ],
   "source": [
    "train_valid_generator.class_indices"
   ]
  },
  {
   "cell_type": "markdown",
   "metadata": {},
   "source": [
    "# Feature extractions using pretrained models"
   ]
  },
  {
   "cell_type": "code",
   "execution_count": 13,
   "metadata": {},
   "outputs": [],
   "source": [
    "def FeaturesExtractor(input_shape, pretrained_model, preprocess_input):\n",
    "    model = pretrained_model(include_top=False, input_shape=input_shape, weights='imagenet')\n",
    "    inputs = Input(input_shape)\n",
    "    x = inputs\n",
    "    x = Lambda(preprocess_input, name='preprocessing')(x)\n",
    "    x = model(x)\n",
    "    x = GlobalAveragePooling2D()(x)\n",
    "    return Model(inputs, x)"
   ]
  },
  {
   "cell_type": "markdown",
   "metadata": {},
   "source": [
    "# Prepare training dataset"
   ]
  },
  {
   "cell_type": "code",
   "execution_count": 14,
   "metadata": {
    "scrolled": true
   },
   "outputs": [
    {
     "name": "stderr",
     "output_type": "stream",
     "text": [
      "100%|█████████████████████████████████████████████████████████████████| 5/5 [00:49<00:00,  9.86s/it]\n"
     ]
    }
   ],
   "source": [
    "X_train = np.zeros((train_valid_generator.n,) + INPUT_SHAPE)\n",
    "y_train = np.zeros((train_valid_generator.n, 120))\n",
    "for i in tqdm(range(len(train_valid_generator)), ncols=100):\n",
    "    temp_x, temp_y = train_valid_generator[i]\n",
    "    start_index = i*train_valid_generator.batch_size\n",
    "    X_train[start_index:start_index + temp_x.shape[0]] = temp_x\n",
    "    y_train[start_index:start_index + temp_x.shape[0]] = temp_y\n"
   ]
  },
  {
   "cell_type": "markdown",
   "metadata": {},
   "source": [
    "# Model creation function"
   ]
  },
  {
   "cell_type": "code",
   "execution_count": 15,
   "metadata": {},
   "outputs": [],
   "source": [
    "def create_simple_model(num_classes, input_shape):\n",
    "    inputs = Input(input_shape)\n",
    "    x = inputs\n",
    "    x = Dropout(0.5)(x)\n",
    "    x = Dense(num_classes, activation='softmax')(x)\n",
    "    return Model(inputs, x)"
   ]
  },
  {
   "cell_type": "markdown",
   "metadata": {},
   "source": [
    "# Use vgg16"
   ]
  },
  {
   "cell_type": "code",
   "execution_count": 16,
   "metadata": {},
   "outputs": [],
   "source": [
    "vgg_features_extractor = FeaturesExtractor(INPUT_SHAPE, vgg16.VGG16, vgg16.preprocess_input)"
   ]
  },
  {
   "cell_type": "code",
   "execution_count": 17,
   "metadata": {},
   "outputs": [],
   "source": [
    "# Calculate vgg features\n",
    "vgg_features = vgg_features_extractor.predict(X_train)"
   ]
  },
  {
   "cell_type": "markdown",
   "metadata": {
    "scrolled": true
   },
   "source": [
    "vgg_based_model = create_simple_model(num_classes, vgg_features_extractor.output.get_shape().as_list()[1:])\n",
    "vgg_based_model.compile(optimizer='adam', loss='categorical_crossentropy', metrics=['accuracy'])\n",
    "\n",
    "filepath= MODELS_DIR + \"model-weights-{epoch:02d}-{val_acc:.2f}.hdf5\"\n",
    "checkpoint = ModelCheckpoint(filepath, monitor='val_acc', verbose=1, save_best_only=True, mode='max')\n",
    "\n",
    "callbacks = [TensorBoard( LOGS_DIR +'vgg-{0}'.format(datetime.now().isoformat().replace(':','-').split('.')[0])),\n",
    "            checkpoint\n",
    "            ]\n",
    "    \n",
    "vgg_based_model.summary()"
   ]
  },
  {
   "cell_type": "code",
   "execution_count": 19,
   "metadata": {},
   "outputs": [
    {
     "name": "stdout",
     "output_type": "stream",
     "text": [
      "Train on 9199 samples, validate on 1023 samples\n",
      "Epoch 1/50\n",
      "9199/9199 [==============================] - 1s 85us/step - loss: 14.8041 - acc: 0.0186 - val_loss: 12.4809 - val_acc: 0.0635\n",
      "\n",
      "Epoch 00001: val_acc improved from -inf to 0.06354, saving model to ./data/models/1/model-weights-01-0.06.hdf5\n",
      "Epoch 2/50\n",
      "9199/9199 [==============================] - 0s 20us/step - loss: 13.6767 - acc: 0.0529 - val_loss: 10.8560 - val_acc: 0.1281\n",
      "\n",
      "Epoch 00002: val_acc improved from 0.06354 to 0.12805, saving model to ./data/models/1/model-weights-02-0.13.hdf5\n",
      "Epoch 3/50\n",
      "9199/9199 [==============================] - 0s 21us/step - loss: 12.4610 - acc: 0.0956 - val_loss: 9.1097 - val_acc: 0.2141\n",
      "\n",
      "Epoch 00003: val_acc improved from 0.12805 to 0.21408, saving model to ./data/models/1/model-weights-03-0.21.hdf5\n",
      "Epoch 4/50\n",
      "9199/9199 [==============================] - 0s 21us/step - loss: 11.0851 - acc: 0.1413 - val_loss: 7.5648 - val_acc: 0.2903\n",
      "\n",
      "Epoch 00004: val_acc improved from 0.21408 to 0.29032, saving model to ./data/models/1/model-weights-04-0.29.hdf5\n",
      "Epoch 5/50\n",
      "9199/9199 [==============================] - 0s 20us/step - loss: 9.9073 - acc: 0.2031 - val_loss: 6.7082 - val_acc: 0.3617\n",
      "\n",
      "Epoch 00005: val_acc improved from 0.29032 to 0.36168, saving model to ./data/models/1/model-weights-05-0.36.hdf5\n",
      "Epoch 6/50\n",
      "9199/9199 [==============================] - 0s 14us/step - loss: 8.8613 - acc: 0.2523 - val_loss: 5.9040 - val_acc: 0.4115\n",
      "\n",
      "Epoch 00006: val_acc improved from 0.36168 to 0.41153, saving model to ./data/models/1/model-weights-06-0.41.hdf5\n",
      "Epoch 7/50\n",
      "9199/9199 [==============================] - 0s 23us/step - loss: 7.8737 - acc: 0.2995 - val_loss: 5.2161 - val_acc: 0.4604\n",
      "\n",
      "Epoch 00007: val_acc improved from 0.41153 to 0.46041, saving model to ./data/models/1/model-weights-07-0.46.hdf5\n",
      "Epoch 8/50\n",
      "9199/9199 [==============================] - 0s 18us/step - loss: 7.1603 - acc: 0.3389 - val_loss: 4.7073 - val_acc: 0.4858\n",
      "\n",
      "Epoch 00008: val_acc improved from 0.46041 to 0.48583, saving model to ./data/models/1/model-weights-08-0.49.hdf5\n",
      "Epoch 9/50\n",
      "9199/9199 [==============================] - 0s 17us/step - loss: 6.6294 - acc: 0.3671 - val_loss: 4.4253 - val_acc: 0.5122\n",
      "\n",
      "Epoch 00009: val_acc improved from 0.48583 to 0.51222, saving model to ./data/models/1/model-weights-09-0.51.hdf5\n",
      "Epoch 10/50\n",
      "9199/9199 [==============================] - 0s 19us/step - loss: 6.0760 - acc: 0.4085 - val_loss: 4.1688 - val_acc: 0.5269\n",
      "\n",
      "Epoch 00010: val_acc improved from 0.51222 to 0.52688, saving model to ./data/models/1/model-weights-10-0.53.hdf5\n",
      "Epoch 11/50\n",
      "9199/9199 [==============================] - 0s 19us/step - loss: 5.6195 - acc: 0.4373 - val_loss: 3.9184 - val_acc: 0.5640\n",
      "\n",
      "Epoch 00011: val_acc improved from 0.52688 to 0.56403, saving model to ./data/models/1/model-weights-11-0.56.hdf5\n",
      "Epoch 12/50\n",
      "9199/9199 [==============================] - 0s 20us/step - loss: 5.2643 - acc: 0.4578 - val_loss: 3.7477 - val_acc: 0.5621\n",
      "\n",
      "Epoch 00012: val_acc did not improve from 0.56403\n",
      "Epoch 13/50\n",
      "9199/9199 [==============================] - 0s 21us/step - loss: 4.9278 - acc: 0.4754 - val_loss: 3.6575 - val_acc: 0.5797\n",
      "\n",
      "Epoch 00013: val_acc improved from 0.56403 to 0.57967, saving model to ./data/models/1/model-weights-13-0.58.hdf5\n",
      "Epoch 14/50\n",
      "9199/9199 [==============================] - 0s 23us/step - loss: 4.6242 - acc: 0.4959 - val_loss: 3.4560 - val_acc: 0.5904\n",
      "\n",
      "Epoch 00014: val_acc improved from 0.57967 to 0.59042, saving model to ./data/models/1/model-weights-14-0.59.hdf5\n",
      "Epoch 15/50\n",
      "9199/9199 [==============================] - 0s 25us/step - loss: 4.3827 - acc: 0.5127 - val_loss: 3.3498 - val_acc: 0.5934\n",
      "\n",
      "Epoch 00015: val_acc improved from 0.59042 to 0.59335, saving model to ./data/models/1/model-weights-15-0.59.hdf5\n",
      "Epoch 16/50\n",
      "9199/9199 [==============================] - 0s 23us/step - loss: 4.1809 - acc: 0.5160 - val_loss: 3.1558 - val_acc: 0.5982\n",
      "\n",
      "Epoch 00016: val_acc improved from 0.59335 to 0.59824, saving model to ./data/models/1/model-weights-16-0.60.hdf5\n",
      "Epoch 17/50\n",
      "9199/9199 [==============================] - 0s 25us/step - loss: 3.9396 - acc: 0.5421 - val_loss: 3.0269 - val_acc: 0.5992\n",
      "\n",
      "Epoch 00017: val_acc improved from 0.59824 to 0.59922, saving model to ./data/models/1/model-weights-17-0.60.hdf5\n",
      "Epoch 18/50\n",
      "9199/9199 [==============================] - 0s 26us/step - loss: 3.6644 - acc: 0.5511 - val_loss: 2.9554 - val_acc: 0.6070\n",
      "\n",
      "Epoch 00018: val_acc improved from 0.59922 to 0.60704, saving model to ./data/models/1/model-weights-18-0.61.hdf5\n",
      "Epoch 19/50\n",
      "9199/9199 [==============================] - 0s 23us/step - loss: 3.5056 - acc: 0.5677 - val_loss: 2.7985 - val_acc: 0.6149\n",
      "\n",
      "Epoch 00019: val_acc improved from 0.60704 to 0.61486, saving model to ./data/models/1/model-weights-19-0.61.hdf5\n",
      "Epoch 20/50\n",
      "9199/9199 [==============================] - 0s 29us/step - loss: 3.3590 - acc: 0.5769 - val_loss: 2.7229 - val_acc: 0.6227\n",
      "\n",
      "Epoch 00020: val_acc improved from 0.61486 to 0.62268, saving model to ./data/models/1/model-weights-20-0.62.hdf5\n",
      "Epoch 21/50\n",
      "9199/9199 [==============================] - 0s 25us/step - loss: 3.1950 - acc: 0.5867 - val_loss: 2.7577 - val_acc: 0.6227\n",
      "\n",
      "Epoch 00021: val_acc did not improve from 0.62268\n",
      "Epoch 22/50\n",
      "9199/9199 [==============================] - 0s 21us/step - loss: 3.0862 - acc: 0.5927 - val_loss: 2.6331 - val_acc: 0.6256\n",
      "\n",
      "Epoch 00022: val_acc improved from 0.62268 to 0.62561, saving model to ./data/models/1/model-weights-22-0.63.hdf5\n",
      "Epoch 23/50\n",
      "9199/9199 [==============================] - 0s 17us/step - loss: 2.9966 - acc: 0.6068 - val_loss: 2.6964 - val_acc: 0.6158\n",
      "\n",
      "Epoch 00023: val_acc did not improve from 0.62561\n",
      "Epoch 24/50\n",
      "9199/9199 [==============================] - 0s 19us/step - loss: 2.8959 - acc: 0.6067 - val_loss: 2.5889 - val_acc: 0.6315\n",
      "\n",
      "Epoch 00024: val_acc improved from 0.62561 to 0.63148, saving model to ./data/models/1/model-weights-24-0.63.hdf5\n",
      "Epoch 25/50\n",
      "9199/9199 [==============================] - 0s 16us/step - loss: 2.7655 - acc: 0.6210 - val_loss: 2.4502 - val_acc: 0.6344\n",
      "\n",
      "Epoch 00025: val_acc improved from 0.63148 to 0.63441, saving model to ./data/models/1/model-weights-25-0.63.hdf5\n",
      "Epoch 26/50\n",
      "9199/9199 [==============================] - 0s 18us/step - loss: 2.7327 - acc: 0.6207 - val_loss: 2.4670 - val_acc: 0.6325\n",
      "\n",
      "Epoch 00026: val_acc did not improve from 0.63441\n",
      "Epoch 27/50\n",
      "9199/9199 [==============================] - 0s 18us/step - loss: 2.6229 - acc: 0.6296 - val_loss: 2.4426 - val_acc: 0.6256\n",
      "\n",
      "Epoch 00027: val_acc did not improve from 0.63441\n",
      "Epoch 28/50\n",
      "9199/9199 [==============================] - 0s 26us/step - loss: 2.5231 - acc: 0.6419 - val_loss: 2.3342 - val_acc: 0.6383\n",
      "\n",
      "Epoch 00028: val_acc improved from 0.63441 to 0.63832, saving model to ./data/models/1/model-weights-28-0.64.hdf5\n",
      "Epoch 29/50\n",
      "9199/9199 [==============================] - 0s 23us/step - loss: 2.4817 - acc: 0.6458 - val_loss: 2.3330 - val_acc: 0.6413\n",
      "\n",
      "Epoch 00029: val_acc improved from 0.63832 to 0.64125, saving model to ./data/models/1/model-weights-29-0.64.hdf5\n",
      "Epoch 30/50\n",
      "9199/9199 [==============================] - 0s 16us/step - loss: 2.4035 - acc: 0.6464 - val_loss: 2.3453 - val_acc: 0.6237\n",
      "\n",
      "Epoch 00030: val_acc did not improve from 0.64125\n",
      "Epoch 31/50\n",
      "9199/9199 [==============================] - 0s 19us/step - loss: 2.3192 - acc: 0.6545 - val_loss: 2.3170 - val_acc: 0.6393\n",
      "\n",
      "Epoch 00031: val_acc did not improve from 0.64125\n",
      "Epoch 32/50\n",
      "9199/9199 [==============================] - 0s 21us/step - loss: 2.2407 - acc: 0.6563 - val_loss: 2.2920 - val_acc: 0.6491\n",
      "\n",
      "Epoch 00032: val_acc improved from 0.64125 to 0.64907, saving model to ./data/models/1/model-weights-32-0.65.hdf5\n",
      "Epoch 33/50\n",
      "9199/9199 [==============================] - 0s 19us/step - loss: 2.2191 - acc: 0.6560 - val_loss: 2.2549 - val_acc: 0.6579\n",
      "\n",
      "Epoch 00033: val_acc improved from 0.64907 to 0.65787, saving model to ./data/models/1/model-weights-33-0.66.hdf5\n",
      "Epoch 34/50\n",
      "9199/9199 [==============================] - 0s 22us/step - loss: 2.1674 - acc: 0.6625 - val_loss: 2.2117 - val_acc: 0.6442\n",
      "\n",
      "Epoch 00034: val_acc did not improve from 0.65787\n",
      "Epoch 35/50\n",
      "9199/9199 [==============================] - 0s 17us/step - loss: 2.1237 - acc: 0.6665 - val_loss: 2.2501 - val_acc: 0.6432\n"
     ]
    },
    {
     "name": "stdout",
     "output_type": "stream",
     "text": [
      "\n",
      "Epoch 00035: val_acc did not improve from 0.65787\n",
      "Epoch 36/50\n",
      "9199/9199 [==============================] - 0s 19us/step - loss: 2.0814 - acc: 0.6712 - val_loss: 2.2718 - val_acc: 0.6500\n",
      "\n",
      "Epoch 00036: val_acc did not improve from 0.65787\n",
      "Epoch 37/50\n",
      "9199/9199 [==============================] - 0s 18us/step - loss: 2.0743 - acc: 0.6716 - val_loss: 2.2055 - val_acc: 0.6432\n",
      "\n",
      "Epoch 00037: val_acc did not improve from 0.65787\n",
      "Epoch 38/50\n",
      "9199/9199 [==============================] - 0s 19us/step - loss: 2.0356 - acc: 0.6775 - val_loss: 2.2417 - val_acc: 0.6442\n",
      "\n",
      "Epoch 00038: val_acc did not improve from 0.65787\n",
      "Epoch 39/50\n",
      "9199/9199 [==============================] - 0s 19us/step - loss: 1.9886 - acc: 0.6812 - val_loss: 2.2341 - val_acc: 0.6403\n",
      "\n",
      "Epoch 00039: val_acc did not improve from 0.65787\n",
      "Epoch 40/50\n",
      "9199/9199 [==============================] - 0s 20us/step - loss: 2.0082 - acc: 0.6745 - val_loss: 2.2347 - val_acc: 0.6364\n",
      "\n",
      "Epoch 00040: val_acc did not improve from 0.65787\n",
      "Epoch 41/50\n",
      "9199/9199 [==============================] - 0s 17us/step - loss: 1.9693 - acc: 0.6797 - val_loss: 2.2395 - val_acc: 0.6461\n",
      "\n",
      "Epoch 00041: val_acc did not improve from 0.65787\n",
      "Epoch 42/50\n",
      "9199/9199 [==============================] - 0s 18us/step - loss: 1.9864 - acc: 0.6809 - val_loss: 2.1891 - val_acc: 0.6579\n",
      "\n",
      "Epoch 00042: val_acc did not improve from 0.65787\n",
      "Epoch 43/50\n",
      "9199/9199 [==============================] - 0s 22us/step - loss: 1.9466 - acc: 0.6761 - val_loss: 2.2186 - val_acc: 0.6461\n",
      "\n",
      "Epoch 00043: val_acc did not improve from 0.65787\n",
      "Epoch 44/50\n",
      "9199/9199 [==============================] - 0s 19us/step - loss: 1.9072 - acc: 0.6809 - val_loss: 2.2013 - val_acc: 0.6383\n",
      "\n",
      "Epoch 00044: val_acc did not improve from 0.65787\n",
      "Epoch 45/50\n",
      "9199/9199 [==============================] - 0s 19us/step - loss: 1.8659 - acc: 0.6841 - val_loss: 2.0537 - val_acc: 0.6471\n",
      "\n",
      "Epoch 00045: val_acc did not improve from 0.65787\n",
      "Epoch 46/50\n",
      "9199/9199 [==============================] - 0s 17us/step - loss: 1.7998 - acc: 0.6953 - val_loss: 2.0217 - val_acc: 0.6461\n",
      "\n",
      "Epoch 00046: val_acc did not improve from 0.65787\n",
      "Epoch 47/50\n",
      "9199/9199 [==============================] - 0s 17us/step - loss: 1.7755 - acc: 0.6915 - val_loss: 2.0513 - val_acc: 0.6373\n",
      "\n",
      "Epoch 00047: val_acc did not improve from 0.65787\n",
      "Epoch 48/50\n",
      "9199/9199 [==============================] - 0s 18us/step - loss: 1.7416 - acc: 0.6937 - val_loss: 2.0723 - val_acc: 0.6373\n",
      "\n",
      "Epoch 00048: val_acc did not improve from 0.65787\n",
      "Epoch 49/50\n",
      "9199/9199 [==============================] - 0s 19us/step - loss: 1.6913 - acc: 0.6989 - val_loss: 2.0276 - val_acc: 0.6422\n",
      "\n",
      "Epoch 00049: val_acc did not improve from 0.65787\n",
      "Epoch 50/50\n",
      "9199/9199 [==============================] - 0s 20us/step - loss: 1.6955 - acc: 0.6993 - val_loss: 1.9863 - val_acc: 0.6500\n",
      "\n",
      "Epoch 00050: val_acc did not improve from 0.65787\n"
     ]
    },
    {
     "data": {
      "text/plain": [
       "<keras.callbacks.History at 0x7f42b04eed30>"
      ]
     },
     "execution_count": 19,
     "metadata": {},
     "output_type": "execute_result"
    }
   ],
   "source": [
    "vgg_based_model.fit(vgg_features, y_train, batch_size=256, epochs=EPOCHS, callbacks=callbacks, validation_split=0.1)"
   ]
  },
  {
   "cell_type": "markdown",
   "metadata": {},
   "source": [
    "# Use resnet50"
   ]
  },
  {
   "cell_type": "code",
   "execution_count": 20,
   "metadata": {},
   "outputs": [
    {
     "name": "stderr",
     "output_type": "stream",
     "text": [
      "/home/trule/miniconda3/lib/python3.6/site-packages/keras_applications/resnet50.py:265: UserWarning: The output shape of `ResNet50(include_top=False)` has been changed since Keras 2.2.0.\n",
      "  warnings.warn('The output shape of `ResNet50(include_top=False)` '\n"
     ]
    }
   ],
   "source": [
    "resnet50_features_extractor = FeaturesExtractor(INPUT_SHAPE, resnet50.ResNet50, resnet50.preprocess_input)"
   ]
  },
  {
   "cell_type": "code",
   "execution_count": 21,
   "metadata": {},
   "outputs": [],
   "source": [
    "resnet50_features = resnet50_features_extractor.predict(X_train)"
   ]
  },
  {
   "cell_type": "code",
   "execution_count": 22,
   "metadata": {},
   "outputs": [],
   "source": [
    "resnet50_based_model = create_simple_model(num_classes, resnet50_features_extractor.output.get_shape().as_list()[1:])\n",
    "resnet50_based_model.compile(optimizer='adam', loss='categorical_crossentropy', metrics=['accuracy'])\n",
    "callbacks = [TensorBoard(LOGS_DIR +'resnet50-{0}'.format(datetime.now().isoformat().replace(':','-').split('.')[0]))]"
   ]
  },
  {
   "cell_type": "code",
   "execution_count": 23,
   "metadata": {},
   "outputs": [
    {
     "name": "stdout",
     "output_type": "stream",
     "text": [
      "Train on 9199 samples, validate on 1023 samples\n",
      "Epoch 1/50\n",
      "9199/9199 [==============================] - 1s 68us/step - loss: 3.9122 - acc: 0.1750 - val_loss: 1.8281 - val_acc: 0.5718\n",
      "Epoch 2/50\n",
      "9199/9199 [==============================] - 0s 28us/step - loss: 1.6948 - acc: 0.5365 - val_loss: 1.1987 - val_acc: 0.6872\n",
      "Epoch 3/50\n",
      "9199/9199 [==============================] - 0s 28us/step - loss: 1.1595 - acc: 0.6655 - val_loss: 1.0238 - val_acc: 0.7253\n",
      "Epoch 4/50\n",
      "9199/9199 [==============================] - 0s 26us/step - loss: 0.9191 - acc: 0.7291 - val_loss: 0.9266 - val_acc: 0.7498\n",
      "Epoch 5/50\n",
      "9199/9199 [==============================] - 0s 26us/step - loss: 0.7853 - acc: 0.7705 - val_loss: 0.8921 - val_acc: 0.7498\n",
      "Epoch 6/50\n",
      "9199/9199 [==============================] - 0s 28us/step - loss: 0.6754 - acc: 0.8003 - val_loss: 0.8612 - val_acc: 0.7625\n",
      "Epoch 7/50\n",
      "9199/9199 [==============================] - 0s 28us/step - loss: 0.5919 - acc: 0.8274 - val_loss: 0.8379 - val_acc: 0.7713\n",
      "Epoch 8/50\n",
      "9199/9199 [==============================] - 0s 28us/step - loss: 0.5261 - acc: 0.8444 - val_loss: 0.8350 - val_acc: 0.7722\n",
      "Epoch 9/50\n",
      "9199/9199 [==============================] - 0s 27us/step - loss: 0.4811 - acc: 0.8626 - val_loss: 0.8171 - val_acc: 0.7693\n",
      "Epoch 10/50\n",
      "9199/9199 [==============================] - 0s 28us/step - loss: 0.4352 - acc: 0.8686 - val_loss: 0.8137 - val_acc: 0.7674\n",
      "Epoch 11/50\n",
      "9199/9199 [==============================] - 0s 27us/step - loss: 0.3907 - acc: 0.8882 - val_loss: 0.8210 - val_acc: 0.7722\n",
      "Epoch 12/50\n",
      "9199/9199 [==============================] - 0s 28us/step - loss: 0.3653 - acc: 0.8921 - val_loss: 0.8135 - val_acc: 0.7742\n",
      "Epoch 13/50\n",
      "9199/9199 [==============================] - 0s 28us/step - loss: 0.3342 - acc: 0.9066 - val_loss: 0.8086 - val_acc: 0.7771\n",
      "Epoch 14/50\n",
      "9199/9199 [==============================] - 0s 29us/step - loss: 0.3182 - acc: 0.9073 - val_loss: 0.8040 - val_acc: 0.7859\n",
      "Epoch 15/50\n",
      "9199/9199 [==============================] - 0s 29us/step - loss: 0.2976 - acc: 0.9161 - val_loss: 0.8072 - val_acc: 0.7810\n",
      "Epoch 16/50\n",
      "9199/9199 [==============================] - 0s 29us/step - loss: 0.2753 - acc: 0.9272 - val_loss: 0.8058 - val_acc: 0.7791\n",
      "Epoch 17/50\n",
      "9199/9199 [==============================] - 0s 29us/step - loss: 0.2591 - acc: 0.9288 - val_loss: 0.8071 - val_acc: 0.7771\n",
      "Epoch 18/50\n",
      "9199/9199 [==============================] - 0s 28us/step - loss: 0.2446 - acc: 0.9322 - val_loss: 0.8110 - val_acc: 0.7722\n",
      "Epoch 19/50\n",
      "9199/9199 [==============================] - 0s 29us/step - loss: 0.2263 - acc: 0.9391 - val_loss: 0.8204 - val_acc: 0.7791\n",
      "Epoch 20/50\n",
      "9199/9199 [==============================] - 0s 29us/step - loss: 0.2175 - acc: 0.9420 - val_loss: 0.8191 - val_acc: 0.7781\n",
      "Epoch 21/50\n",
      "9199/9199 [==============================] - 0s 29us/step - loss: 0.2082 - acc: 0.9437 - val_loss: 0.8140 - val_acc: 0.7830\n",
      "Epoch 22/50\n",
      "9199/9199 [==============================] - 0s 32us/step - loss: 0.2082 - acc: 0.9430 - val_loss: 0.8118 - val_acc: 0.7781\n",
      "Epoch 23/50\n",
      "9199/9199 [==============================] - 0s 34us/step - loss: 0.1874 - acc: 0.9523 - val_loss: 0.8028 - val_acc: 0.7781\n",
      "Epoch 24/50\n",
      "9199/9199 [==============================] - 0s 28us/step - loss: 0.1818 - acc: 0.9528 - val_loss: 0.8170 - val_acc: 0.7693\n",
      "Epoch 25/50\n",
      "9199/9199 [==============================] - 0s 30us/step - loss: 0.1764 - acc: 0.9530 - val_loss: 0.8242 - val_acc: 0.7713\n",
      "Epoch 26/50\n",
      "9199/9199 [==============================] - 0s 31us/step - loss: 0.1764 - acc: 0.9530 - val_loss: 0.8291 - val_acc: 0.7693\n",
      "Epoch 27/50\n",
      "9199/9199 [==============================] - 0s 31us/step - loss: 0.1692 - acc: 0.9522 - val_loss: 0.8283 - val_acc: 0.7820\n",
      "Epoch 28/50\n",
      "9199/9199 [==============================] - 0s 30us/step - loss: 0.1512 - acc: 0.9636 - val_loss: 0.8241 - val_acc: 0.7830\n",
      "Epoch 29/50\n",
      "9199/9199 [==============================] - 0s 27us/step - loss: 0.1456 - acc: 0.9623 - val_loss: 0.8377 - val_acc: 0.7752\n",
      "Epoch 30/50\n",
      "9199/9199 [==============================] - 0s 31us/step - loss: 0.1433 - acc: 0.9642 - val_loss: 0.8305 - val_acc: 0.7820\n",
      "Epoch 31/50\n",
      "9199/9199 [==============================] - 0s 30us/step - loss: 0.1422 - acc: 0.9641 - val_loss: 0.8553 - val_acc: 0.7703\n",
      "Epoch 32/50\n",
      "9199/9199 [==============================] - 0s 29us/step - loss: 0.1370 - acc: 0.9641 - val_loss: 0.8507 - val_acc: 0.7664\n",
      "Epoch 33/50\n",
      "9199/9199 [==============================] - 0s 29us/step - loss: 0.1335 - acc: 0.9662 - val_loss: 0.8398 - val_acc: 0.7801\n",
      "Epoch 34/50\n",
      "9199/9199 [==============================] - 0s 30us/step - loss: 0.1267 - acc: 0.9689 - val_loss: 0.8542 - val_acc: 0.7742\n",
      "Epoch 35/50\n",
      "9199/9199 [==============================] - 0s 31us/step - loss: 0.1243 - acc: 0.9688 - val_loss: 0.8541 - val_acc: 0.7742\n",
      "Epoch 36/50\n",
      "9199/9199 [==============================] - 0s 26us/step - loss: 0.1230 - acc: 0.9702 - val_loss: 0.8582 - val_acc: 0.7742\n",
      "Epoch 37/50\n",
      "9199/9199 [==============================] - 0s 29us/step - loss: 0.1204 - acc: 0.9710 - val_loss: 0.8599 - val_acc: 0.7693\n",
      "Epoch 38/50\n",
      "9199/9199 [==============================] - 0s 24us/step - loss: 0.1150 - acc: 0.9712 - val_loss: 0.8855 - val_acc: 0.7664\n",
      "Epoch 39/50\n",
      "9199/9199 [==============================] - 0s 28us/step - loss: 0.1157 - acc: 0.9703 - val_loss: 0.8587 - val_acc: 0.7781\n",
      "Epoch 40/50\n",
      "9199/9199 [==============================] - 0s 26us/step - loss: 0.1162 - acc: 0.9700 - val_loss: 0.8795 - val_acc: 0.7693\n",
      "Epoch 41/50\n",
      "9199/9199 [==============================] - 0s 26us/step - loss: 0.1086 - acc: 0.9728 - val_loss: 0.8947 - val_acc: 0.7664\n",
      "Epoch 42/50\n",
      "9199/9199 [==============================] - 0s 25us/step - loss: 0.1054 - acc: 0.9748 - val_loss: 0.8769 - val_acc: 0.7752\n",
      "Epoch 43/50\n",
      "9199/9199 [==============================] - 0s 25us/step - loss: 0.1024 - acc: 0.9739 - val_loss: 0.8984 - val_acc: 0.7732\n",
      "Epoch 44/50\n",
      "9199/9199 [==============================] - 0s 24us/step - loss: 0.1038 - acc: 0.9728 - val_loss: 0.8979 - val_acc: 0.7722\n",
      "Epoch 45/50\n",
      "9199/9199 [==============================] - 0s 26us/step - loss: 0.1041 - acc: 0.9738 - val_loss: 0.8904 - val_acc: 0.7703\n",
      "Epoch 46/50\n",
      "9199/9199 [==============================] - 0s 34us/step - loss: 0.1016 - acc: 0.9737 - val_loss: 0.8914 - val_acc: 0.7781\n",
      "Epoch 47/50\n",
      "9199/9199 [==============================] - 0s 24us/step - loss: 0.0948 - acc: 0.9770 - val_loss: 0.8954 - val_acc: 0.7693\n",
      "Epoch 48/50\n",
      "9199/9199 [==============================] - 0s 24us/step - loss: 0.0974 - acc: 0.9748 - val_loss: 0.9034 - val_acc: 0.7644\n",
      "Epoch 49/50\n",
      "9199/9199 [==============================] - 0s 23us/step - loss: 0.0923 - acc: 0.9772 - val_loss: 0.9059 - val_acc: 0.7674\n",
      "Epoch 50/50\n",
      "9199/9199 [==============================] - 0s 24us/step - loss: 0.0869 - acc: 0.9809 - val_loss: 0.8984 - val_acc: 0.7761\n"
     ]
    },
    {
     "data": {
      "text/plain": [
       "<keras.callbacks.History at 0x7f3c474cfa20>"
      ]
     },
     "execution_count": 23,
     "metadata": {},
     "output_type": "execute_result"
    }
   ],
   "source": [
    "resnet50_based_model.fit(resnet50_features, y_train, batch_size=256, epochs=EPOCHS,  callbacks=callbacks, validation_split=0.1)"
   ]
  },
  {
   "cell_type": "markdown",
   "metadata": {},
   "source": [
    "# Confusion matrix (VGG)"
   ]
  },
  {
   "cell_type": "code",
   "execution_count": 24,
   "metadata": {},
   "outputs": [],
   "source": [
    "index2labels = {}\n",
    "for k, v in train_valid_generator.class_indices.items():\n",
    "    index2labels[v] = k"
   ]
  },
  {
   "cell_type": "code",
   "execution_count": 25,
   "metadata": {
    "scrolled": true
   },
   "outputs": [
    {
     "name": "stderr",
     "output_type": "stream",
     "text": [
      "100%|█████████████████████████████████████████████████████████████████| 5/5 [01:13<00:00, 14.71s/it]"
     ]
    },
    {
     "name": "stdout",
     "output_type": "stream",
     "text": [
      "9117\n",
      "[52. 76. 89. 42. 95. 63. 59.  6. 40. 92.]\n",
      "[52. 76. 89. 42. 95. 63. 59.  6. 40. 92.]\n",
      "[[ 83   0   0   0   0   0   0   0   0   0]\n",
      " [  0  68   0   0   0   0   0   3   0   0]\n",
      " [  0   0  69   0   0   0   0   0   0   0]\n",
      " [  0   0   0  81   0   0   0   0   0   0]\n",
      " [  0   0   0   0  57   0   0   0   0   0]\n",
      " [  0   0   0   0   0  86   0   0   0   0]\n",
      " [  0   0   0   0   0   0  69   0   0   2]\n",
      " [  0   0   0   0   0   0   0 105   0   0]\n",
      " [  0   0   0   0   0   0   0   0 117   0]\n",
      " [  0   0   0   0   0   0   0   0   0  74]]\n"
     ]
    },
    {
     "name": "stderr",
     "output_type": "stream",
     "text": [
      "\n"
     ]
    }
   ],
   "source": [
    "preds = []\n",
    "targets = []\n",
    "for i in tqdm(range(len(train_valid_generator)), ncols=100):\n",
    "    x, y = train_valid_generator[i]\n",
    "    p = vgg_based_model.predict(vgg_features_extractor.predict(x))\n",
    "    p = np.argmax(p, axis=1)    \n",
    "    y = np.argmax(y, axis=1)\n",
    "    preds = np.concatenate((preds, p))\n",
    "    targets = np.concatenate((targets, y))\n",
    "from sklearn.metrics import confusion_matrix\n",
    "print(np.sum(targets == preds))\n",
    "print(preds[0:10])\n",
    "print(targets[0:10])\n",
    "cm = confusion_matrix(targets, preds)\n",
    "print(cm[0:10, 0:10])"
   ]
  },
  {
   "cell_type": "code",
   "execution_count": 26,
   "metadata": {},
   "outputs": [
    {
     "data": {
      "text/plain": [
       "<matplotlib.axes._subplots.AxesSubplot at 0x7f3c40696240>"
      ]
     },
     "execution_count": 26,
     "metadata": {},
     "output_type": "execute_result"
    },
    {
     "data": {
      "image/png": "[encoded data removed]",
      "text/plain": [
       "<Figure size 720x720 with 2 Axes>"
      ]
     },
     "metadata": {
      "needs_background": "light"
     },
     "output_type": "display_data"
    }
   ],
   "source": [
    "import seaborn as sn\n",
    "import matplotlib.pyplot as plt\n",
    "%matplotlib inline\n",
    "df_cm = pd.DataFrame(cm)\n",
    "plt.figure(figsize = (10,10))\n",
    "sn.heatmap(df_cm, annot=False)"
   ]
  },
  {
   "cell_type": "markdown",
   "metadata": {},
   "source": [
    "# Save models and data for prediction"
   ]
  },
  {
   "cell_type": "code",
   "execution_count": 27,
   "metadata": {},
   "outputs": [],
   "source": [
    "vgg_features_extractor.save(MODELS_DIR + 'model-weights-vgg_features_extractor.hdf5')"
   ]
  },
  {
   "cell_type": "code",
   "execution_count": 28,
   "metadata": {},
   "outputs": [],
   "source": [
    "with open(MODELS_DIR + 'model-classes.json', 'w') as f:\n",
    "    f.write(json.dumps(train_valid_generator.class_indices))"
   ]
  },
  {
   "cell_type": "code",
   "execution_count": null,
   "metadata": {},
   "outputs": [],
   "source": []
  }
 ],
 "metadata": {
  "kernelspec": {
   "display_name": "Python 3",
   "language": "python",
   "name": "python3"
  },
  "language_info": {
   "codemirror_mode": {
    "name": "ipython",
    "version": 3
   },
   "file_extension": ".py",
   "mimetype": "text/x-python",
   "name": "python",
   "nbconvert_exporter": "python",
   "pygments_lexer": "ipython3",
   "version": "3.6.8"
  }
 },
 "nbformat": 4,
 "nbformat_minor": 2
}
