{
 "cells": [
  {
   "cell_type": "code",
   "execution_count": 1,
   "metadata": {},
   "outputs": [
    {
     "name": "stderr",
     "output_type": "stream",
     "text": [
      "C:\\ProgramData\\Anaconda3\\lib\\site-packages\\h5py\\__init__.py:36: FutureWarning: Conversion of the second argument of issubdtype from `float` to `np.floating` is deprecated. In future, it will be treated as `np.float64 == np.dtype(float).type`.\n",
      "  from ._conv import register_converters as _register_converters\n",
      "Using TensorFlow backend.\n"
     ]
    }
   ],
   "source": [
    "from attention import ModelFactory"
   ]
  },
  {
   "cell_type": "code",
   "execution_count": 2,
   "metadata": {},
   "outputs": [
    {
     "name": "stderr",
     "output_type": "stream",
     "text": [
      "D:\\cygwin64\\home\\trule\\Notebook\\LML\\RNN-Seq2Seq\\attention.py:112: UserWarning: Update your `Model` call to the Keras 2 API: `Model(inputs=[<tf.Tenso..., outputs=Tensor(\"St...)`\n",
      "  train_model = Model(input=[encoder_input,decoder_input,initial_s_input,initial_c_input ], output=probs)\n",
      "D:\\cygwin64\\home\\trule\\Notebook\\LML\\RNN-Seq2Seq\\attention.py:115: UserWarning: Update your `Model` call to the Keras 2 API: `Model(inputs=Tensor(\"En..., outputs=Tensor(\"En...)`\n",
      "  encoder_model = Model(input = encoder_input, output = encoder_outputs)\n",
      "D:\\cygwin64\\home\\trule\\Notebook\\LML\\RNN-Seq2Seq\\attention.py:124: UserWarning: Update your `Model` call to the Keras 2 API: `Model(inputs=[<tf.Tenso..., outputs=Tensor(\"de...)`\n",
      "  decoder_model = Model(input=[encoder_outputs_as_input, decoder_single_input, initial_s_input, initial_c_input], output=decoder_single_output)\n"
     ]
    }
   ],
   "source": [
    "model = ModelFactory.create(10, 2, 100, 100, 128, 128, 100000, 100000)"
   ]
  },
  {
   "cell_type": "code",
   "execution_count": 3,
   "metadata": {},
   "outputs": [],
   "source": [
    "from keras.utils import plot_model\n"
   ]
  },
  {
   "cell_type": "code",
   "execution_count": 5,
   "metadata": {},
   "outputs": [],
   "source": [
    "plot_model(model.train_model, show_shapes=True, to_file='sample_model_shapes.png')\n",
    "plot_model(model.train_model, show_shapes=False, to_file='sample_model.png')\n",
    "plot_model(model.encoder_model, show_shapes=True, to_file='sample_encoder_model_shapes.png')\n",
    "plot_model(model.encoder_model, show_shapes=False, to_file='sample_encoder_model.png')\n",
    "plot_model(model.decoder_model, show_shapes=True, to_file='sample_decoder_model_shapes.png')\n",
    "plot_model(model.decoder_model, show_shapes=False, to_file='sample_decoder_model.png')"
   ]
  },
  {
   "cell_type": "code",
   "execution_count": null,
   "metadata": {},
   "outputs": [],
   "source": []
  }
 ],
 "metadata": {
  "kernelspec": {
   "display_name": "Python 3",
   "language": "python",
   "name": "python3"
  },
  "language_info": {
   "codemirror_mode": {
    "name": "ipython",
    "version": 3
   },
   "file_extension": ".py",
   "mimetype": "text/x-python",
   "name": "python",
   "nbconvert_exporter": "python",
   "pygments_lexer": "ipython3",
   "version": "3.6.5"
  }
 },
 "nbformat": 4,
 "nbformat_minor": 2
}
