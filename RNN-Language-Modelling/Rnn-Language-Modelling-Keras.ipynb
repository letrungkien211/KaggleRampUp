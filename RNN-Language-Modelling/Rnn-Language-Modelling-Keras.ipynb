{
 "cells": [
  {
   "cell_type": "markdown",
   "metadata": {},
   "source": [
    "# Language modelling using RNN"
   ]
  },
  {
   "cell_type": "code",
   "execution_count": 1,
   "metadata": {},
   "outputs": [
    {
     "name": "stderr",
     "output_type": "stream",
     "text": [
      "C:\\ProgramData\\Anaconda3\\lib\\site-packages\\h5py\\__init__.py:36: FutureWarning: Conversion of the second argument of issubdtype from `float` to `np.floating` is deprecated. In future, it will be treated as `np.float64 == np.dtype(float).type`.\n",
      "  from ._conv import register_converters as _register_converters\n",
      "Using TensorFlow backend.\n"
     ]
    }
   ],
   "source": [
    "import keras\n",
    "import matplotlib.pyplot as plt\n",
    "from collections import Counter\n",
    "import tensorflow as tf\n",
    "from keras.preprocessing.sequence import pad_sequences\n",
    "import numpy as np\n",
    "import random\n",
    "%matplotlib inline"
   ]
  },
  {
   "cell_type": "code",
   "execution_count": 2,
   "metadata": {},
   "outputs": [],
   "source": [
    "# Only let tensorflow backend use a portion of gpu, otherwise the program crashes time to time \n",
    "# (at least on my windows machine)\n",
    "from keras import backend as K\n",
    "gpu_options = tf.GPUOptions(per_process_gpu_memory_fraction=0.6)\n",
    "config = tf.ConfigProto(gpu_options=gpu_options)\n",
    "sess = tf.Session(config=config)\n",
    "K.set_session(sess)"
   ]
  },
  {
   "cell_type": "markdown",
   "metadata": {},
   "source": [
    "# Read data"
   ]
  },
  {
   "cell_type": "code",
   "execution_count": 3,
   "metadata": {},
   "outputs": [],
   "source": [
    "# Format: Each line contain one sentences in Japanese word broken by Mecab (Total: 1M lines)\n",
    "# This data is private, so feel free to replace it with any other data you might have\n",
    "# Any language would be fine. \n",
    "\n",
    "with open('./data/private_japanese_corpus_1M.txt', encoding='utf-8') as f:\n",
    "    sentences_raw = [x.rstrip() for x in f.readlines()]"
   ]
  },
  {
   "cell_type": "code",
   "execution_count": 4,
   "metadata": {},
   "outputs": [],
   "source": [
    "# Sample sentences\n",
    "# sentences_raw[0:1]"
   ]
  },
  {
   "cell_type": "markdown",
   "metadata": {},
   "source": [
    "# Define Parameters"
   ]
  },
  {
   "cell_type": "code",
   "execution_count": 5,
   "metadata": {},
   "outputs": [],
   "source": [
    "VOCAB_SIZE = 10000\n",
    "\n",
    "EMBEDDING_SIZE = 256\n",
    "\n",
    "NUM_RNN_UNITS = 256\n",
    "\n",
    "BATCH_SIZE = 128\n",
    "\n",
    "DATA_SIZE = None ## Calculate bellow\n",
    "\n",
    "NUM_BATCHES = None ## Calculate bellow\n",
    "\n",
    "MAX_LEN = None"
   ]
  },
  {
   "cell_type": "markdown",
   "metadata": {},
   "source": [
    "# Preprocess data"
   ]
  },
  {
   "cell_type": "code",
   "execution_count": 6,
   "metadata": {},
   "outputs": [],
   "source": [
    "# Calculate input_text, target_texts\n",
    "input_texts = []\n",
    "target_texts = []\n",
    "\n",
    "for line in sentences_raw:\n",
    "    if not line:\n",
    "        continue\n",
    "    input_line = '<sos> ' + line\n",
    "    target_line = line + ' <eos>'\n",
    "\n",
    "    input_texts.append(input_line)\n",
    "    target_texts.append(target_line)"
   ]
  },
  {
   "cell_type": "code",
   "execution_count": 7,
   "metadata": {},
   "outputs": [],
   "source": [
    "# Create tokenizer\n",
    "tokenizer = keras.preprocessing.text.Tokenizer(num_words=VOCAB_SIZE, filters='')\n",
    "tokenizer.fit_on_texts([x + ' <eos>' for x in input_texts])"
   ]
  },
  {
   "cell_type": "code",
   "execution_count": 8,
   "metadata": {},
   "outputs": [],
   "source": [
    "# Transofrm input sequences\n",
    "input_sequences = tokenizer.texts_to_sequences(input_texts)\n",
    "target_sequences = tokenizer.texts_to_sequences(target_texts)"
   ]
  },
  {
   "cell_type": "code",
   "execution_count": 9,
   "metadata": {
    "scrolled": true
   },
   "outputs": [
    {
     "name": "stdout",
     "output_type": "stream",
     "text": [
      "In Sequence Sample\t [1, 373, 6, 3, 974, 632, 3, 4465, 20, 3, 2143, 13, 1774, 35, 12, 121, 164]\n",
      "Out Sequence Sample\t [[373, 6, 3, 974, 632, 3, 4465, 20, 3, 2143, 13, 1774, 35, 12, 121, 164, 2]]\n"
     ]
    }
   ],
   "source": [
    "print('In Sequence Sample\\t', input_sequences[0])\n",
    "print('Out Sequence Sample\\t', target_sequences[0:1])"
   ]
  },
  {
   "cell_type": "code",
   "execution_count": 10,
   "metadata": {},
   "outputs": [],
   "source": [
    "# Calculate parameters\n",
    "DATA_SIZE = len(input_sequences)\n",
    "NUM_BATCHES = int(DATA_SIZE/BATCH_SIZE) -2"
   ]
  },
  {
   "cell_type": "code",
   "execution_count": 11,
   "metadata": {},
   "outputs": [
    {
     "data": {
      "text/plain": [
       "141"
      ]
     },
     "execution_count": 11,
     "metadata": {},
     "output_type": "execute_result"
    }
   ],
   "source": [
    "MAX_LEN = max(len(s) for s in input_sequences)\n",
    "MAX_LEN"
   ]
  },
  {
   "cell_type": "code",
   "execution_count": 12,
   "metadata": {},
   "outputs": [],
   "source": [
    "# Padding input sequences (no need to do this for target sequences since one hot can be calculated without this step)\n",
    "input_sequences_pad = pad_sequences(input_sequences, MAX_LEN, padding='post')"
   ]
  },
  {
   "cell_type": "code",
   "execution_count": 13,
   "metadata": {},
   "outputs": [
    {
     "name": "stdout",
     "output_type": "stream",
     "text": [
      "(999069, 141)\n"
     ]
    }
   ],
   "source": [
    "print(input_sequences_pad.shape)"
   ]
  },
  {
   "cell_type": "markdown",
   "metadata": {},
   "source": [
    "# Create model"
   ]
  },
  {
   "cell_type": "code",
   "execution_count": 14,
   "metadata": {},
   "outputs": [],
   "source": [
    "model = keras.Sequential()"
   ]
  },
  {
   "cell_type": "code",
   "execution_count": 15,
   "metadata": {},
   "outputs": [],
   "source": [
    "model.add(keras.layers.Embedding(VOCAB_SIZE, EMBEDDING_SIZE))\n",
    "model.add(keras.layers.GRU(NUM_RNN_UNITS, input_shape=(MAX_LEN, EMBEDDING_SIZE), activation='relu', return_sequences=True))\n",
    "model.add(keras.layers.Dense(VOCAB_SIZE, activation='softmax'))\n"
   ]
  },
  {
   "cell_type": "code",
   "execution_count": 16,
   "metadata": {},
   "outputs": [
    {
     "name": "stdout",
     "output_type": "stream",
     "text": [
      "_________________________________________________________________\n",
      "Layer (type)                 Output Shape              Param #   \n",
      "=================================================================\n",
      "embedding_1 (Embedding)      (None, None, 256)         2560000   \n",
      "_________________________________________________________________\n",
      "gru_1 (GRU)                  (None, None, 256)         393984    \n",
      "_________________________________________________________________\n",
      "dense_1 (Dense)              (None, None, 10000)       2570000   \n",
      "=================================================================\n",
      "Total params: 5,523,984\n",
      "Trainable params: 5,523,984\n",
      "Non-trainable params: 0\n",
      "_________________________________________________________________\n"
     ]
    }
   ],
   "source": [
    "model.compile(optimizer='adam', loss='categorical_crossentropy')\n",
    "model.summary()"
   ]
  },
  {
   "cell_type": "code",
   "execution_count": 17,
   "metadata": {},
   "outputs": [
    {
     "data": {
      "image/png": "[encoded data removed]",
      "text/plain": [
       "<Figure size 432x288 with 1 Axes>"
      ]
     },
     "metadata": {},
     "output_type": "display_data"
    }
   ],
   "source": [
    "from keras.utils import plot_model\n",
    "import matplotlib.image as mpimg\n",
    "\n",
    "model_path = 'rnn-langmodel.png'\n",
    "plot_model(model, model_path, show_shapes=True)\n",
    "\n",
    "img=mpimg.imread(model_path)\n",
    "imgplot = plt.imshow(img)\n",
    "plt.show()"
   ]
  },
  {
   "cell_type": "markdown",
   "metadata": {},
   "source": [
    "# Training "
   ]
  },
  {
   "cell_type": "code",
   "execution_count": 18,
   "metadata": {},
   "outputs": [],
   "source": [
    "# Define generator. Data is too large so needed to be divided into batch of batches.\n",
    "def generator(input_sequences_pad = input_sequences_pad, target_sequences = target_sequences, batch_size = BATCH_SIZE):\n",
    "    num_batch = int(len(input_sequences_pad)/ batch_size)\n",
    "    while True:\n",
    "        for i in range(num_batch-1):\n",
    "            x = input_sequences_pad[batch_size*i: batch_size*(i+1)]\n",
    "            y = np.zeros((int(batch_size), MAX_LEN, VOCAB_SIZE), dtype=np.bool)\n",
    "            for i, sentence in enumerate(target_sequences[batch_size*i: batch_size*(i+1)]):\n",
    "                for j, word_index in enumerate(sentence):\n",
    "                    y[i, j, word_index] = 1\n",
    "            yield x, y"
   ]
  },
  {
   "cell_type": "code",
   "execution_count": 19,
   "metadata": {},
   "outputs": [],
   "source": [
    "# Define generator. Data is too large so needed to be divided into batch of batches.\n",
    "def generator_rand(input_sequences_pad = input_sequences_pad, target_sequences = target_sequences, batch_size = BATCH_SIZE):  \n",
    "    while True:\n",
    "        rand_start = random.randint(0, len(input_sequences_pad)- BATCH_SIZE-1);\n",
    "        x = input_sequences_pad[rand_start: rand_start+ batch_size]\n",
    "        y = np.zeros((int(batch_size), MAX_LEN, VOCAB_SIZE), dtype=np.bool)\n",
    "        for i, sentence in enumerate(target_sequences[rand_start: rand_start+ batch_size]):\n",
    "            for j, word_index in enumerate(sentence):\n",
    "                y[i, j, word_index] = 1\n",
    "        yield x, y"
   ]
  },
  {
   "cell_type": "code",
   "execution_count": 20,
   "metadata": {},
   "outputs": [],
   "source": [
    "DEFAULT_FOLDER = './data/models/v1/'\n",
    "import os\n",
    "from keras.models import model_from_json\n",
    "def save_model(model, folder = DEFAULT_FOLDER):\n",
    "    if not os.path.exists(folder):\n",
    "        os.makedirs(folder)\n",
    "    model_json = model.to_json()\n",
    "    with open(folder + 'model.json', 'w') as json_file:\n",
    "        json_file.write(model_json)\n",
    "    model.save_weights(folder + \"model.h5\")\n",
    "def load_model(folder=DEFAULT_FOLDER):\n",
    "    with open(folder + 'model.json') as f:\n",
    "        model_json = f.read()\n",
    "    model = model_from_json(model_json)\n",
    "    model.load_weights(folder + 'model.h5')\n",
    "    return model"
   ]
  },
  {
   "cell_type": "markdown",
   "metadata": {},
   "source": [
    "# Uncomment to train and save"
   ]
  },
  {
   "cell_type": "code",
   "execution_count": 21,
   "metadata": {},
   "outputs": [],
   "source": [
    "#model.fit_generator(generator= generator, steps_per_epoch= NUM_BATCHES , epochs=10)\n",
    "# Take about 2 hours with 1M lines of short sentences in GTX 1080"
   ]
  },
  {
   "cell_type": "code",
   "execution_count": 22,
   "metadata": {},
   "outputs": [],
   "source": [
    "#save_model(model)"
   ]
  },
  {
   "cell_type": "markdown",
   "metadata": {},
   "source": [
    "# Generation"
   ]
  },
  {
   "cell_type": "code",
   "execution_count": 23,
   "metadata": {},
   "outputs": [],
   "source": [
    "# Load trained model\n",
    "trained_model = load_model()"
   ]
  },
  {
   "cell_type": "code",
   "execution_count": 24,
   "metadata": {},
   "outputs": [],
   "source": [
    "temp = [x for sentence in tokenizer.texts_to_sequences(['<sos>']) for x in sentence]\n",
    "step = 1\n",
    "for i in range(100):\n",
    "    step_temp = min(len(temp), step)\n",
    "    pred = trained_model.predict([temp[-step_temp:]])\n",
    "    pred_index = np.argpartition(pred.reshape(-1), -10)[-10:]\n",
    "    pred_index = np.random.choice(pred_index)\n",
    "    if(tokenizer.index_word[pred_index] == '<eos>'):\n",
    "        break;\n",
    "    temp = temp + [pred_index]\n",
    "# tokenizer.sequences_to_texts([temp[1:]]) # Cannot public the result"
   ]
  },
  {
   "cell_type": "code",
   "execution_count": 25,
   "metadata": {},
   "outputs": [],
   "source": [
    "def release_gpu_memory():\n",
    "    from keras import backend as K\n",
    "    K.clear_session()\n",
    "    import gc\n",
    "    gc.collect()\n",
    "    from numba import cuda\n",
    "    cuda.select_device(0)\n",
    "    cuda.close()\n",
    "# Release memory when needed\n",
    "# release_gpu_memory()"
   ]
  },
  {
   "cell_type": "code",
   "execution_count": null,
   "metadata": {},
   "outputs": [],
   "source": []
  },
  {
   "cell_type": "code",
   "execution_count": null,
   "metadata": {},
   "outputs": [],
   "source": []
  }
 ],
 "metadata": {
  "kernelspec": {
   "display_name": "Python 3",
   "language": "python",
   "name": "python3"
  },
  "language_info": {
   "codemirror_mode": {
    "name": "ipython",
    "version": 3
   },
   "file_extension": ".py",
   "mimetype": "text/x-python",
   "name": "python",
   "nbconvert_exporter": "python",
   "pygments_lexer": "ipython3",
   "version": "3.6.5"
  }
 },
 "nbformat": 4,
 "nbformat_minor": 2
}
